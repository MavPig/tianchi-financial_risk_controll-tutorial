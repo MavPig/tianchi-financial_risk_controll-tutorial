{
 "cells": [
  {
   "cell_type": "markdown",
   "metadata": {},
   "source": [
    "# Task3 特征工程"
   ]
  },
  {
   "cell_type": "markdown",
   "metadata": {},
   "source": [
    "此部分为零基础入门金融风控的 Task3 特征工程部分，带你来了解各种特征工程以及分析方法，欢迎大家后续多多交流。\n",
    "\n",
    "赛题：零基础入门数据挖掘 - 零基础入门金融风控之贷款违约\n",
    "\n",
    "\n",
    "项目地址：https://github.com/datawhalechina/team-learning-data-mining/tree/master/FinancialRiskControl\n",
    "\n",
    "比赛地址：https://tianchi.aliyun.com/competition/entrance/531830/introduction"
   ]
  },
  {
   "cell_type": "markdown",
   "metadata": {},
   "source": [
    "## 3.1 学习目标\n",
    "\n",
    "- 学习特征预处理、缺失值、异常值处理、数据分桶等特征处理方法\n",
    "- 学习特征交互、编码、选择的相应方法\n",
    "- 完成相应学习打卡任务，两个选做的作业不做强制性要求，供学有余力同学自己探索"
   ]
  },
  {
   "cell_type": "markdown",
   "metadata": {},
   "source": [
    "## 3.2 内容介绍\n",
    "\n",
    "- 数据预处理：\n",
    "  - 缺失值的填充\n",
    "  - 时间格式处理\n",
    "  - 对象类型特征转换到数值\n",
    "- 异常值处理：\n",
    "  - 基于3segama原则\n",
    "  - 基于箱型图\n",
    "- 数据分箱\n",
    "  - 固定宽度分箱\n",
    "  - 分位数分箱\n",
    "    - 离散数值型数据分箱\n",
    "    - 连续数值型数据分箱\n",
    "  - 卡方分箱（选做作业）\n",
    "- 特征交互\n",
    "  - 特征和特征之间组合\n",
    "  - 特征和特征之间衍生\n",
    "  - 其他特征衍生的尝试（选做作业）\n",
    "- 特征编码\n",
    "  - one-hot编码\n",
    "  - label-encode编码\n",
    "- 特征选择\n",
    "    - 1 Filter\n",
    "    - 2 Wrapper （RFE）\n",
    "    - 3 Embedded"
   ]
  },
  {
   "cell_type": "markdown",
   "metadata": {},
   "source": [
    "## 3.3 代码示例"
   ]
  },
  {
   "cell_type": "markdown",
   "metadata": {},
   "source": [
    "### 3.3.1 导入包并读取数据"
   ]
  },
  {
   "cell_type": "code",
   "execution_count": 3,
   "metadata": {},
   "outputs": [],
   "source": [
    "import pandas as pd\n",
    "import numpy as np\n",
    "import matplotlib.pyplot as plt\n",
    "import seaborn as sns\n",
    "import datetime\n",
    "from tqdm import tqdm\n",
    "from sklearn.preprocessing import LabelEncoder\n",
    "from sklearn.feature_selection import SelectKBest\n",
    "from sklearn.feature_selection import chi2\n",
    "from sklearn.preprocessing import MinMaxScaler\n",
    "import xgboost as xgb\n",
    "import lightgbm as lgb\n",
    "from catboost import CatBoostRegressor\n",
    "import warnings\n",
    "from sklearn.model_selection import StratifiedKFold, KFold\n",
    "from sklearn.metrics import accuracy_score, f1_score, roc_auc_score, log_loss\n",
    "warnings.filterwarnings('ignore')"
   ]
  },
  {
   "cell_type": "code",
   "execution_count": 242,
   "metadata": {},
   "outputs": [],
   "source": [
    "data_train =pd.read_csv('../train.csv')\n",
    "data_test_a = pd.read_csv('../testA.csv')"
   ]
  },
  {
   "cell_type": "markdown",
   "metadata": {},
   "source": [
    "### 3.3.2特征预处理"
   ]
  },
  {
   "cell_type": "markdown",
   "metadata": {},
   "source": [
    "- 数据EDA部分我们已经对数据的大概和某些特征分布有了了解，数据预处理部分一般我们要处理一些EDA阶段分析出来的问题，这里介绍了数据缺失值的填充，时间格式特征的转化处理，某些对象类别特征的处理。"
   ]
  },
  {
   "cell_type": "markdown",
   "metadata": {},
   "source": [
    "首先我们查找出数据中的对象特征和数值特征"
   ]
  },
  {
   "cell_type": "code",
   "execution_count": 243,
   "metadata": {},
   "outputs": [],
   "source": [
    "numerical_fea = list(data_train.select_dtypes(exclude=['object']).columns)\n",
    "category_fea = list(filter(lambda x: x not in numerical_fea,list(data_train.columns)))\n",
    "label = 'isDefault'\n",
    "numerical_fea.remove(label)"
   ]
  },
  {
   "cell_type": "markdown",
   "metadata": {},
   "source": [
    "在比赛中数据预处理是必不可少的一部分，对于缺失值的填充往往会影响比赛的结果，在比赛中不妨尝试多种填充然后比较结果选择结果最优的一种；\n",
    "比赛数据相比真实场景的数据相对要“干净”一些，但是还是会有一定的“脏”数据存在，清洗一些异常值往往会获得意想不到的效果。"
   ]
  },
  {
   "cell_type": "markdown",
   "metadata": {},
   "source": [
    "#### 缺失值填充"
   ]
  },
  {
   "cell_type": "markdown",
   "metadata": {},
   "source": [
    "- 把所有缺失值替换为指定的值0\n",
    "\n",
    "    data_train = data_train.fillna(0)\n",
    "\n",
    "\n",
    "- 向用缺失值上面的值替换缺失值\n",
    "\n",
    "    data_train = data_train.fillna(axis=0,method='ffill')\n",
    "\n",
    "\n",
    "- 纵向用缺失值下面的值替换缺失值,且设置最多只填充两个连续的缺失值\n",
    "\n",
    "    data_train = data_train.fillna(axis=0,method='bfill',limit=2)"
   ]
  },
  {
   "cell_type": "code",
   "execution_count": 246,
   "metadata": {},
   "outputs": [
    {
     "data": {
      "text/plain": [
       "id                        0\n",
       "loanAmnt                  0\n",
       "term                      0\n",
       "interestRate              0\n",
       "installment               0\n",
       "grade                     0\n",
       "subGrade                  0\n",
       "employmentTitle           1\n",
       "employmentLength      46799\n",
       "homeOwnership             0\n",
       "annualIncome              0\n",
       "verificationStatus        0\n",
       "issueDate                 0\n",
       "isDefault                 0\n",
       "purpose                   0\n",
       "postCode                  1\n",
       "regionCode                0\n",
       "dti                     239\n",
       "delinquency_2years        0\n",
       "ficoRangeLow              0\n",
       "ficoRangeHigh             0\n",
       "openAcc                   0\n",
       "pubRec                    0\n",
       "pubRecBankruptcies      405\n",
       "revolBal                  0\n",
       "revolUtil               531\n",
       "totalAcc                  0\n",
       "initialListStatus         0\n",
       "applicationType           0\n",
       "earliesCreditLine         0\n",
       "title                     1\n",
       "policyCode                0\n",
       "n0                    40270\n",
       "n1                    40270\n",
       "n2                    40270\n",
       "n2.1                  40270\n",
       "n4                    33239\n",
       "n5                    40270\n",
       "n6                    40270\n",
       "n7                    40270\n",
       "n8                    40271\n",
       "n9                    40270\n",
       "n10                   33239\n",
       "n11                   69752\n",
       "n12                   40270\n",
       "n13                   40270\n",
       "n14                   40270\n",
       "dtype: int64"
      ]
     },
     "execution_count": 246,
     "metadata": {},
     "output_type": "execute_result"
    }
   ],
   "source": [
    "#查看缺失值情况\n",
    "data_train.isnull().sum()"
   ]
  },
  {
   "cell_type": "code",
   "execution_count": 249,
   "metadata": {},
   "outputs": [],
   "source": [
    "#按照平均数填充数值型特征\n",
    "data_train[numerical_fea] = data_train[numerical_fea].fillna(data_train[numerical_fea].median())\n",
    "data_test_a[numerical_fea] = data_test_a[numerical_fea].fillna(data_train[numerical_fea].median())\n",
    "#按照众数填充类别型特征\n",
    "data_train[category_fea] = data_train[category_fea].fillna(data_train[category_fea].mode())\n",
    "data_test_a[category_fea] = data_test_a[category_fea].fillna(data_train[category_fea].mode())"
   ]
  },
  {
   "cell_type": "code",
   "execution_count": 248,
   "metadata": {},
   "outputs": [
    {
     "data": {
      "text/plain": [
       "id                        0\n",
       "loanAmnt                  0\n",
       "term                      0\n",
       "interestRate              0\n",
       "installment               0\n",
       "grade                     0\n",
       "subGrade                  0\n",
       "employmentTitle           0\n",
       "employmentLength      46799\n",
       "homeOwnership             0\n",
       "annualIncome              0\n",
       "verificationStatus        0\n",
       "issueDate                 0\n",
       "isDefault                 0\n",
       "purpose                   0\n",
       "postCode                  0\n",
       "regionCode                0\n",
       "dti                       0\n",
       "delinquency_2years        0\n",
       "ficoRangeLow              0\n",
       "ficoRangeHigh             0\n",
       "openAcc                   0\n",
       "pubRec                    0\n",
       "pubRecBankruptcies        0\n",
       "revolBal                  0\n",
       "revolUtil                 0\n",
       "totalAcc                  0\n",
       "initialListStatus         0\n",
       "applicationType           0\n",
       "earliesCreditLine         0\n",
       "title                     0\n",
       "policyCode                0\n",
       "n0                        0\n",
       "n1                        0\n",
       "n2                        0\n",
       "n2.1                      0\n",
       "n4                        0\n",
       "n5                        0\n",
       "n6                        0\n",
       "n7                        0\n",
       "n8                        0\n",
       "n9                        0\n",
       "n10                       0\n",
       "n11                       0\n",
       "n12                       0\n",
       "n13                       0\n",
       "n14                       0\n",
       "dtype: int64"
      ]
     },
     "execution_count": 248,
     "metadata": {},
     "output_type": "execute_result"
    }
   ],
   "source": [
    "data_train.isnull().sum()"
   ]
  },
  {
   "cell_type": "code",
   "execution_count": 233,
   "metadata": {},
   "outputs": [
    {
     "data": {
      "text/plain": [
       "['grade', 'subGrade', 'employmentLength', 'issueDate', 'earliesCreditLine']"
      ]
     },
     "execution_count": 233,
     "metadata": {},
     "output_type": "execute_result"
    }
   ],
   "source": [
    "#查看类别特征\n",
    "category_fea"
   ]
  },
  {
   "cell_type": "markdown",
   "metadata": {},
   "source": [
    "- category_fea：对象型类别特征需要进行预处理，其中['issueDate']为时间格式特征。"
   ]
  },
  {
   "cell_type": "markdown",
   "metadata": {},
   "source": [
    "#### 时间格式处理"
   ]
  },
  {
   "cell_type": "code",
   "execution_count": 234,
   "metadata": {},
   "outputs": [],
   "source": [
    "#转化成时间格式\n",
    "for data in [data_train, data_test_a]:\n",
    "    data['issueDate'] = pd.to_datetime(data['issueDate'],format='%Y-%m-%d')\n",
    "    startdate = datetime.datetime.strptime('2007-06-01', '%Y-%m-%d')\n",
    "    #构造时间特征\n",
    "    data['issueDateDT'] = data['issueDate'].apply(lambda x: x-startdate).dt.days"
   ]
  },
  {
   "cell_type": "code",
   "execution_count": 235,
   "metadata": {},
   "outputs": [
    {
     "data": {
      "text/plain": [
       "1 year        52489\n",
       "10+ years    262753\n",
       "2 years       72358\n",
       "3 years       64152\n",
       "4 years       47985\n",
       "5 years       50102\n",
       "6 years       37254\n",
       "7 years       35407\n",
       "8 years       36192\n",
       "9 years       30272\n",
       "< 1 year      64237\n",
       "NaN           46799\n",
       "Name: employmentLength, dtype: int64"
      ]
     },
     "execution_count": 235,
     "metadata": {},
     "output_type": "execute_result"
    }
   ],
   "source": [
    "data_train['employmentLength'].value_counts(dropna=False).sort_index()"
   ]
  },
  {
   "cell_type": "markdown",
   "metadata": {},
   "source": [
    "#### 对象类型特征转换到数值"
   ]
  },
  {
   "cell_type": "code",
   "execution_count": 236,
   "metadata": {},
   "outputs": [],
   "source": [
    "def employmentLength_to_int(s):\n",
    "    if pd.isnull(s):\n",
    "        return s\n",
    "    else:\n",
    "        return np.int8(s.split()[0])\n",
    "for data in [data_train, data_test_a]:\n",
    "    data['employmentLength'].replace(to_replace='10+ years', value='10 years', inplace=True)\n",
    "    data['employmentLength'].replace('< 1 year', '0 years', inplace=True)\n",
    "    data['employmentLength'] = data['employmentLength'].apply(employmentLength_to_int)"
   ]
  },
  {
   "cell_type": "code",
   "execution_count": 237,
   "metadata": {},
   "outputs": [
    {
     "data": {
      "text/plain": [
       "0.0     15989\n",
       "1.0     13182\n",
       "2.0     18207\n",
       "3.0     16011\n",
       "4.0     11833\n",
       "5.0     12543\n",
       "6.0      9328\n",
       "7.0      8823\n",
       "8.0      8976\n",
       "9.0      7594\n",
       "10.0    65772\n",
       "NaN     11742\n",
       "Name: employmentLength, dtype: int64"
      ]
     },
     "execution_count": 237,
     "metadata": {},
     "output_type": "execute_result"
    }
   ],
   "source": [
    "data['employmentLength'].value_counts(dropna=False).sort_index()"
   ]
  },
  {
   "cell_type": "markdown",
   "metadata": {},
   "source": [
    "- 对earliesCreditLine进行预处理"
   ]
  },
  {
   "cell_type": "code",
   "execution_count": 238,
   "metadata": {},
   "outputs": [
    {
     "data": {
      "text/plain": [
       "519915    Sep-2002\n",
       "564368    Dec-1996\n",
       "768209    May-2004\n",
       "453092    Nov-1995\n",
       "763866    Sep-2000\n",
       "Name: earliesCreditLine, dtype: object"
      ]
     },
     "execution_count": 238,
     "metadata": {},
     "output_type": "execute_result"
    }
   ],
   "source": [
    "data_train['earliesCreditLine'].sample(5)"
   ]
  },
  {
   "cell_type": "code",
   "execution_count": 239,
   "metadata": {},
   "outputs": [],
   "source": [
    "for data in [data_train, data_test_a]:\n",
    "    data['earliesCreditLine'] = data['earliesCreditLine'].apply(lambda s: int(s[-4:]))"
   ]
  },
  {
   "cell_type": "markdown",
   "metadata": {},
   "source": [
    "#### 类别特征处理\n"
   ]
  },
  {
   "cell_type": "code",
   "execution_count": 218,
   "metadata": {},
   "outputs": [
    {
     "name": "stdout",
     "output_type": "stream",
     "text": [
      "grade 类型数： 7\n",
      "subGrade 类型数： 35\n",
      "employmentTitle 类型数： 79282\n",
      "homeOwnership 类型数： 6\n",
      "verificationStatus 类型数： 3\n",
      "purpose 类型数： 14\n",
      "postCode 类型数： 889\n",
      "regionCode 类型数： 51\n",
      "applicationType 类型数： 2\n",
      "initialListStatus 类型数： 2\n",
      "title 类型数： 12058\n",
      "policyCode 类型数： 1\n"
     ]
    }
   ],
   "source": [
    "# 部分类别特征\n",
    "cate_features = ['grade', 'subGrade', 'employmentTitle', 'homeOwnership', 'verificationStatus', 'purpose', 'postCode', 'regionCode', \\\n",
    "                 'applicationType', 'initialListStatus', 'title', 'policyCode']\n",
    "for f in cate_features:\n",
    "    print(f, '类型数：', data[f].nunique())"
   ]
  },
  {
   "cell_type": "markdown",
   "metadata": {},
   "source": [
    "像等级这种类别特征，是有优先级的可以labelencode或者自映射"
   ]
  },
  {
   "cell_type": "code",
   "execution_count": 219,
   "metadata": {},
   "outputs": [],
   "source": [
    "for data in [data_train, data_test_a]:\n",
    "    data['grade'] = data['grade'].map({'A':1,'B':2,'C':3,'D':4,'E':5,'F':6,'G':7})"
   ]
  },
  {
   "cell_type": "code",
   "execution_count": 220,
   "metadata": {},
   "outputs": [],
   "source": [
    "# 类型数在2之上，又不是高维稀疏的,且纯分类特征\n",
    "for data in [data_train, data_test_a]:\n",
    "    data = pd.get_dummies(data, columns=['subGrade', 'homeOwnership', 'verificationStatus', 'purpose', 'regionCode'], drop_first=True)"
   ]
  },
  {
   "cell_type": "markdown",
   "metadata": {},
   "source": [
    "### 3.3.3  异常值处理\n",
    "- 当你发现异常值后，一定要先分清是什么原因导致的异常值，然后再考虑如何处理。首先，如果这一异常值并不代表一种规律性的，而是极其偶然的现象，或者说你并不想研究这种偶然的现象，这时可以将其删除。其次，如果异常值存在且代表了一种真实存在的现象，那就不能随便删除。在现有的欺诈场景中很多时候欺诈数据本身相对于正常数据勒说就是异常的，我们要把这些异常点纳入，重新拟合模型，研究其规律。能用监督的用监督模型，不能用的还可以考虑用异常检测的算法来做。\n",
    "- 注意test的数据不能删。"
   ]
  },
  {
   "cell_type": "markdown",
   "metadata": {},
   "source": [
    "#### 检测异常的方法一：均方差"
   ]
  },
  {
   "cell_type": "markdown",
   "metadata": {},
   "source": [
    "在统计学中，如果一个数据分布近似正态，那么大约 68% 的数据值会在均值的一个标准差范围内，大约 95% 会在两个标准差范围内，大约 99.7% 会在三个标准差范围内。"
   ]
  },
  {
   "cell_type": "code",
   "execution_count": 240,
   "metadata": {},
   "outputs": [],
   "source": [
    "def find_outliers_by_3segama(data,fea):\n",
    "    data_std = np.std(data[fea])\n",
    "    data_mean = np.mean(data[fea])\n",
    "    outliers_cut_off = data_std * 3\n",
    "    lower_rule = data_mean - outliers_cut_off\n",
    "    upper_rule = data_mean + outliers_cut_off\n",
    "    data[fea+'_outliers'] = data[fea].apply(lambda x:str('异常值') if x > upper_rule or x < lower_rule else '正常值')\n",
    "    return data"
   ]
  },
  {
   "cell_type": "markdown",
   "metadata": {},
   "source": [
    "- 得到特征的异常值后可以进一步分析变量异常值和目标变量的关系"
   ]
  },
  {
   "cell_type": "code",
   "execution_count": 173,
   "metadata": {},
   "outputs": [
    {
     "name": "stdout",
     "output_type": "stream",
     "text": [
      "正常值    800000\n",
      "Name: id_outliers, dtype: int64\n",
      "id_outliers\n",
      "正常值    159610\n",
      "Name: isDefault, dtype: int64\n",
      "**********\n",
      "正常值    800000\n",
      "Name: loanAmnt_outliers, dtype: int64\n",
      "loanAmnt_outliers\n",
      "正常值    159610\n",
      "Name: isDefault, dtype: int64\n",
      "**********\n",
      "正常值    800000\n",
      "Name: term_outliers, dtype: int64\n",
      "term_outliers\n",
      "正常值    159610\n",
      "Name: isDefault, dtype: int64\n",
      "**********\n",
      "正常值    794259\n",
      "异常值      5741\n",
      "Name: interestRate_outliers, dtype: int64\n",
      "interestRate_outliers\n",
      "异常值      2916\n",
      "正常值    156694\n",
      "Name: isDefault, dtype: int64\n",
      "**********\n",
      "正常值    792046\n",
      "异常值      7954\n",
      "Name: installment_outliers, dtype: int64\n",
      "installment_outliers\n",
      "异常值      2152\n",
      "正常值    157458\n",
      "Name: isDefault, dtype: int64\n",
      "**********\n",
      "正常值    800000\n",
      "Name: employmentTitle_outliers, dtype: int64\n",
      "employmentTitle_outliers\n",
      "正常值    159610\n",
      "Name: isDefault, dtype: int64\n",
      "**********\n",
      "正常值    799701\n",
      "异常值       299\n",
      "Name: homeOwnership_outliers, dtype: int64\n",
      "homeOwnership_outliers\n",
      "异常值        62\n",
      "正常值    159548\n",
      "Name: isDefault, dtype: int64\n",
      "**********\n",
      "正常值    793973\n",
      "异常值      6027\n",
      "Name: annualIncome_outliers, dtype: int64\n",
      "annualIncome_outliers\n",
      "异常值       756\n",
      "正常值    158854\n",
      "Name: isDefault, dtype: int64\n",
      "**********\n",
      "正常值    800000\n",
      "Name: verificationStatus_outliers, dtype: int64\n",
      "verificationStatus_outliers\n",
      "正常值    159610\n",
      "Name: isDefault, dtype: int64\n",
      "**********\n",
      "正常值    783003\n",
      "异常值     16997\n",
      "Name: purpose_outliers, dtype: int64\n",
      "purpose_outliers\n",
      "异常值      3635\n",
      "正常值    155975\n",
      "Name: isDefault, dtype: int64\n",
      "**********\n",
      "正常值    798931\n",
      "异常值      1069\n",
      "Name: postCode_outliers, dtype: int64\n",
      "postCode_outliers\n",
      "异常值       221\n",
      "正常值    159389\n",
      "Name: isDefault, dtype: int64\n",
      "**********\n",
      "正常值    799994\n",
      "异常值         6\n",
      "Name: regionCode_outliers, dtype: int64\n",
      "regionCode_outliers\n",
      "异常值         1\n",
      "正常值    159609\n",
      "Name: isDefault, dtype: int64\n",
      "**********\n",
      "正常值    798440\n",
      "异常值      1560\n",
      "Name: dti_outliers, dtype: int64\n",
      "dti_outliers\n",
      "异常值       466\n",
      "正常值    159144\n",
      "Name: isDefault, dtype: int64\n",
      "**********\n",
      "正常值    778245\n",
      "异常值     21755\n",
      "Name: delinquency_2years_outliers, dtype: int64\n",
      "delinquency_2years_outliers\n",
      "异常值      5089\n",
      "正常值    154521\n",
      "Name: isDefault, dtype: int64\n",
      "**********\n",
      "正常值    788261\n",
      "异常值     11739\n",
      "Name: ficoRangeLow_outliers, dtype: int64\n",
      "ficoRangeLow_outliers\n",
      "异常值       778\n",
      "正常值    158832\n",
      "Name: isDefault, dtype: int64\n",
      "**********\n",
      "正常值    788261\n",
      "异常值     11739\n",
      "Name: ficoRangeHigh_outliers, dtype: int64\n",
      "ficoRangeHigh_outliers\n",
      "异常值       778\n",
      "正常值    158832\n",
      "Name: isDefault, dtype: int64\n",
      "**********\n",
      "正常值    790889\n",
      "异常值      9111\n",
      "Name: openAcc_outliers, dtype: int64\n",
      "openAcc_outliers\n",
      "异常值      2195\n",
      "正常值    157415\n",
      "Name: isDefault, dtype: int64\n",
      "**********\n",
      "正常值    792471\n",
      "异常值      7529\n",
      "Name: pubRec_outliers, dtype: int64\n",
      "pubRec_outliers\n",
      "异常值      1701\n",
      "正常值    157909\n",
      "Name: isDefault, dtype: int64\n",
      "**********\n",
      "正常值    794120\n",
      "异常值      5880\n",
      "Name: pubRecBankruptcies_outliers, dtype: int64\n",
      "pubRecBankruptcies_outliers\n",
      "异常值      1423\n",
      "正常值    158187\n",
      "Name: isDefault, dtype: int64\n",
      "**********\n",
      "正常值    790001\n",
      "异常值      9999\n",
      "Name: revolBal_outliers, dtype: int64\n",
      "revolBal_outliers\n",
      "异常值      1359\n",
      "正常值    158251\n",
      "Name: isDefault, dtype: int64\n",
      "**********\n",
      "正常值    799948\n",
      "异常值        52\n",
      "Name: revolUtil_outliers, dtype: int64\n",
      "revolUtil_outliers\n",
      "异常值        23\n",
      "正常值    159587\n",
      "Name: isDefault, dtype: int64\n",
      "**********\n",
      "正常值    791663\n",
      "异常值      8337\n",
      "Name: totalAcc_outliers, dtype: int64\n",
      "totalAcc_outliers\n",
      "异常值      1668\n",
      "正常值    157942\n",
      "Name: isDefault, dtype: int64\n",
      "**********\n",
      "正常值    800000\n",
      "Name: initialListStatus_outliers, dtype: int64\n",
      "initialListStatus_outliers\n",
      "正常值    159610\n",
      "Name: isDefault, dtype: int64\n",
      "**********\n",
      "正常值    784586\n",
      "异常值     15414\n",
      "Name: applicationType_outliers, dtype: int64\n",
      "applicationType_outliers\n",
      "异常值      3875\n",
      "正常值    155735\n",
      "Name: isDefault, dtype: int64\n",
      "**********\n",
      "正常值    775134\n",
      "异常值     24866\n",
      "Name: title_outliers, dtype: int64\n",
      "title_outliers\n",
      "异常值      3900\n",
      "正常值    155710\n",
      "Name: isDefault, dtype: int64\n",
      "**********\n",
      "正常值    800000\n",
      "Name: policyCode_outliers, dtype: int64\n",
      "policyCode_outliers\n",
      "正常值    159610\n",
      "Name: isDefault, dtype: int64\n",
      "**********\n",
      "正常值    782773\n",
      "异常值     17227\n",
      "Name: n0_outliers, dtype: int64\n",
      "n0_outliers\n",
      "异常值      3485\n",
      "正常值    156125\n",
      "Name: isDefault, dtype: int64\n",
      "**********\n",
      "正常值    790500\n",
      "异常值      9500\n",
      "Name: n1_outliers, dtype: int64\n",
      "n1_outliers\n",
      "异常值      2491\n",
      "正常值    157119\n",
      "Name: isDefault, dtype: int64\n",
      "**********\n",
      "正常值    789067\n",
      "异常值     10933\n",
      "Name: n2_outliers, dtype: int64\n",
      "n2_outliers\n",
      "异常值      3205\n",
      "正常值    156405\n",
      "Name: isDefault, dtype: int64\n",
      "**********\n",
      "正常值    789067\n",
      "异常值     10933\n",
      "Name: n2.1_outliers, dtype: int64\n",
      "n2.1_outliers\n",
      "异常值      3205\n",
      "正常值    156405\n",
      "Name: isDefault, dtype: int64\n",
      "**********\n",
      "正常值    788660\n",
      "异常值     11340\n",
      "Name: n4_outliers, dtype: int64\n",
      "n4_outliers\n",
      "异常值      2476\n",
      "正常值    157134\n",
      "Name: isDefault, dtype: int64\n",
      "**********\n",
      "正常值    790355\n",
      "异常值      9645\n",
      "Name: n5_outliers, dtype: int64\n",
      "n5_outliers\n",
      "异常值      1858\n",
      "正常值    157752\n",
      "Name: isDefault, dtype: int64\n",
      "**********\n",
      "正常值    786006\n",
      "异常值     13994\n",
      "Name: n6_outliers, dtype: int64\n",
      "n6_outliers\n",
      "异常值      3182\n",
      "正常值    156428\n",
      "Name: isDefault, dtype: int64\n",
      "**********\n",
      "正常值    788430\n",
      "异常值     11570\n",
      "Name: n7_outliers, dtype: int64\n",
      "n7_outliers\n",
      "异常值      2746\n",
      "正常值    156864\n",
      "Name: isDefault, dtype: int64\n",
      "**********\n",
      "正常值    789625\n",
      "异常值     10375\n",
      "Name: n8_outliers, dtype: int64\n",
      "n8_outliers\n",
      "异常值      2131\n",
      "正常值    157479\n",
      "Name: isDefault, dtype: int64\n",
      "**********\n",
      "正常值    786384\n",
      "异常值     13616\n",
      "Name: n9_outliers, dtype: int64\n",
      "n9_outliers\n",
      "异常值      3953\n",
      "正常值    155657\n",
      "Name: isDefault, dtype: int64\n",
      "**********\n",
      "正常值    788979\n",
      "异常值     11021\n",
      "Name: n10_outliers, dtype: int64\n",
      "n10_outliers\n",
      "异常值      2639\n",
      "正常值    156971\n",
      "Name: isDefault, dtype: int64\n",
      "**********\n",
      "正常值    799434\n",
      "异常值       566\n",
      "Name: n11_outliers, dtype: int64\n",
      "n11_outliers\n",
      "异常值       112\n",
      "正常值    159498\n",
      "Name: isDefault, dtype: int64\n",
      "**********\n",
      "正常值    797585\n",
      "异常值      2415\n",
      "Name: n12_outliers, dtype: int64\n",
      "n12_outliers\n",
      "异常值       545\n",
      "正常值    159065\n",
      "Name: isDefault, dtype: int64\n",
      "**********\n",
      "正常值    788907\n",
      "异常值     11093\n",
      "Name: n13_outliers, dtype: int64\n",
      "n13_outliers\n",
      "异常值      2482\n",
      "正常值    157128\n",
      "Name: isDefault, dtype: int64\n",
      "**********\n",
      "正常值    788884\n",
      "异常值     11116\n",
      "Name: n14_outliers, dtype: int64\n",
      "n14_outliers\n",
      "异常值      3364\n",
      "正常值    156246\n",
      "Name: isDefault, dtype: int64\n",
      "**********\n"
     ]
    }
   ],
   "source": [
    "data_train = data_train.copy()\n",
    "for fea in numerical_fea:\n",
    "    data_train = find_outliers_by_3segama(data_train,fea)\n",
    "    print(data_train[fea+'_outliers'].value_counts())\n",
    "    print(data_train.groupby(fea+'_outliers')['isDefault'].sum())\n",
    "    print('*'*10)"
   ]
  },
  {
   "cell_type": "markdown",
   "metadata": {},
   "source": [
    "- 例如可以看到异常值在两个变量上的分布几乎复合整体的分布，如果异常值都属于为1的用户数据里面代表什么呢？"
   ]
  },
  {
   "cell_type": "code",
   "execution_count": 175,
   "metadata": {},
   "outputs": [],
   "source": [
    "#删除异常值\n",
    "for fea in numerical_fea:\n",
    "    data_train = data_train[data_train[fea+'_outliers']=='正常值']\n",
    "    data_train = data_train.reset_index(drop=True) "
   ]
  },
  {
   "cell_type": "markdown",
   "metadata": {},
   "source": [
    "#### 检测异常的方法二：箱型图"
   ]
  },
  {
   "cell_type": "markdown",
   "metadata": {},
   "source": [
    "- 总结一句话：四分位数会将数据分为三个点和四个区间，IQR = Q3 -Q1，下触须=Q1 − 1.5x IQR，上触须=Q3 + 1.5x IQR；"
   ]
  },
  {
   "cell_type": "markdown",
   "metadata": {},
   "source": [
    "### 3.3.4 数据分桶"
   ]
  },
  {
   "cell_type": "markdown",
   "metadata": {},
   "source": [
    "- 特征分箱的目的：\n",
    "  - 从模型效果上来看，特征分箱主要是为了降低变量的复杂性，减少变量噪音对模型的影响，提高自变量和因变量的相关度。从而使模型更加稳定。\n",
    "- 数据分桶的对象：\n",
    "  - 将连续变量离散化\n",
    "  - 将多状态的离散变量合并成少状态\n",
    "- 分箱的原因：\n",
    "  - 数据的特征内的值跨度可能比较大，对有监督和无监督中如k-均值聚类它使用欧氏距离作为相似度函数来测量数据点之间的相似度。都会造成大吃小的影响，其中一种解决方法是对计数值进行区间量化即数据分桶也叫做数据分箱，然后使用量化后的结果。\n",
    "- 分箱的优点：\n",
    "  - 处理缺失值：当数据源可能存在缺失值，此时可以把null单独作为一个分箱。\n",
    "  - 处理异常值：当数据中存在离群点时，可以把其通过分箱离散化处理，从而提高变量的鲁棒性（抗干扰能力）。例如，age若出现200这种异常值，可分入“age > 60”这个分箱里，排除影响。\n",
    "  - 业务解释性：我们习惯于线性判断变量的作用，当x越来越大，y就越来越大。但实际x与y之间经常存在着非线性关系，此时可经过WOE变换。\n",
    "\n",
    "- 特别要注意一下分箱的基本原则：\n",
    "  - （1）最小分箱占比不低于5%\n",
    "  - （2）箱内不能全部是好客户\n",
    "  - （3）连续箱单调"
   ]
  },
  {
   "cell_type": "markdown",
   "metadata": {},
   "source": [
    "1. 固定宽度分箱 \n",
    "\n",
    "当数值横跨多个数量级时，最好按照 10 的幂（或任何常数的幂）来进行分组：0~9、10~99、100~999、1000~9999，等等。固定宽度分箱非常容易计算，但如果计数值中有比较大的缺口，就会产生很多没有任何数据的空箱子。"
   ]
  },
  {
   "cell_type": "code",
   "execution_count": 37,
   "metadata": {},
   "outputs": [],
   "source": [
    "# 通过除法映射到间隔均匀的分箱中，每个分箱的取值范围都是loanAmnt/1000\n",
    "data['loanAmnt_bin1'] = np.floor_divide(data['loanAmnt'], 1000)"
   ]
  },
  {
   "cell_type": "code",
   "execution_count": 38,
   "metadata": {},
   "outputs": [],
   "source": [
    "## 通过对数函数映射到指数宽度分箱\n",
    "data['loanAmnt_bin2'] = np.floor(np.log10(data['loanAmnt']))"
   ]
  },
  {
   "cell_type": "markdown",
   "metadata": {},
   "source": [
    "2. 分位数分箱"
   ]
  },
  {
   "cell_type": "code",
   "execution_count": 43,
   "metadata": {},
   "outputs": [],
   "source": [
    "data['loanAmnt_bin3'] = pd.qcut(data['loanAmnt'], 10, labels=False)"
   ]
  },
  {
   "cell_type": "markdown",
   "metadata": {},
   "source": [
    "3. 卡方分箱及其他分箱方法的尝试\n",
    " - 这一部分属于进阶部分，学有余力的同学可以自行搜索尝试。"
   ]
  },
  {
   "cell_type": "markdown",
   "metadata": {},
   "source": [
    "### 3.3.5 特征交互\n",
    "- 交互特征的构造非常简单，使用起来却代价不菲。如果线性模型中包含有交互特征对，那它的训练时间和评分时间就会从 O(n) 增加到 O(n2)，其中 n 是单一特征的数量。"
   ]
  },
  {
   "cell_type": "code",
   "execution_count": 221,
   "metadata": {},
   "outputs": [],
   "source": [
    "for col in ['grade', 'subGrade']: \n",
    "    temp_dict = data_train.groupby([col])['isDefault'].agg(['mean']).reset_index().rename(columns={'mean': col + '_target_mean'})\n",
    "    temp_dict.index = temp_dict[col].values\n",
    "    temp_dict = temp_dict[col + '_target_mean'].to_dict()\n",
    "\n",
    "    data_train[col + '_target_mean'] = data_train[col].map(temp_dict)\n",
    "    data_test_a[col + '_target_mean'] = data_test_a[col].map(temp_dict)"
   ]
  },
  {
   "cell_type": "code",
   "execution_count": 222,
   "metadata": {},
   "outputs": [],
   "source": [
    "# 其他衍生变量 mean 和 std\n",
    "for df in [data_train, data_test_a]:\n",
    "    for item in ['n0','n1','n2','n2.1','n4','n5','n6','n7','n8','n9','n10','n11','n12','n13','n14']:\n",
    "        df['grade_to_mean_' + item] = df['grade'] / df.groupby([item])['grade'].transform('mean')\n",
    "        df['grade_to_std_' + item] = df['grade'] / df.groupby([item])['grade'].transform('std')"
   ]
  },
  {
   "cell_type": "markdown",
   "metadata": {},
   "source": [
    "#### 这里给出一些特征交互的思路，但特征和特征间的交互衍生出新的特征还远远不止于此，抛砖引玉，希望大家多多探索。请学习者尝试其他的特征交互方法"
   ]
  },
  {
   "cell_type": "markdown",
   "metadata": {},
   "source": [
    "### 3.3.6 特征编码\n"
   ]
  },
  {
   "cell_type": "markdown",
   "metadata": {},
   "source": [
    "#### labelEncode 直接放入树模型中"
   ]
  },
  {
   "cell_type": "code",
   "execution_count": 224,
   "metadata": {},
   "outputs": [
    {
     "name": "stderr",
     "output_type": "stream",
     "text": [
      "100%|██████████| 4/4 [00:08<00:00,  2.04s/it]"
     ]
    },
    {
     "name": "stdout",
     "output_type": "stream",
     "text": [
      "Label Encoding 完成\n"
     ]
    },
    {
     "name": "stderr",
     "output_type": "stream",
     "text": [
      "\n"
     ]
    }
   ],
   "source": [
    "#label-encode:subGrade,postCode,title\n",
    "# 高维类别特征需要进行转换\n",
    "for col in tqdm(['employmentTitle', 'postCode', 'title','subGrade']):\n",
    "    le = LabelEncoder()\n",
    "    le.fit(list(data_train[col].astype(str).values) + list(data_test_a[col].astype(str).values))\n",
    "    data_train[col] = le.transform(list(data_train[col].astype(str).values))\n",
    "    data_test_a[col] = le.transform(list(data_test_a[col].astype(str).values))\n",
    "print('Label Encoding 完成')"
   ]
  },
  {
   "cell_type": "markdown",
   "metadata": {},
   "source": [
    "#### 逻辑回归等模型要单独增加的特征工程\n",
    "- 对特征做归一化，去除相关性高的特征\n",
    "- 归一化目的是让训练过程更好更快的收敛，避免特征大吃小的问题\n",
    "- 去除相关性是增加模型的可解释性，加快预测过程。"
   ]
  },
  {
   "cell_type": "code",
   "execution_count": null,
   "metadata": {},
   "outputs": [],
   "source": [
    "# 举例归一化过程\n",
    "#伪代码\n",
    "for fea in [要归一化的特征列表]：\n",
    "    data[fea] = ((data[fea] - np.min(data[fea])) / (np.max(data[fea]) - np.min(data[fea])))"
   ]
  },
  {
   "cell_type": "markdown",
   "metadata": {},
   "source": [
    "### 3.3.7 特征选择\n",
    "- 特征选择技术可以精简掉无用的特征，以降低最终模型的复杂性，它的最终目的是得到一个简约模型，在不降低预测准确率或对预测准确率影响不大的情况下提高计算速度。特征选择不是为了减少训练时间（实际上，一些技术会增加总体训练时间），而是为了减少模型评分时间。\n",
    "\n",
    "特征选择的方法：\n",
    "\n",
    "- 1 Filter\n",
    "  - 方差选择法\n",
    "  - 相关系数法（pearson 相关系数）\n",
    "  - 卡方检验\n",
    "  - 互信息法\n",
    "- 2 Wrapper （RFE）\n",
    "  - 递归特征消除法\n",
    "- 3 Embedded\n",
    "  - 基于惩罚项的特征选择法\n",
    "  - 基于树模型的特征选择"
   ]
  },
  {
   "cell_type": "markdown",
   "metadata": {},
   "source": [
    "#### Filter\n",
    "- 基于特征间的关系进行筛选"
   ]
  },
  {
   "cell_type": "markdown",
   "metadata": {},
   "source": [
    "方差选择法\n",
    "- 方差选择法中，先要计算各个特征的方差，然后根据设定的阈值，选择方差大于阈值的特征"
   ]
  },
  {
   "cell_type": "code",
   "execution_count": null,
   "metadata": {},
   "outputs": [],
   "source": [
    "from sklearn.feature_selection import VarianceThreshold\n",
    "#其中参数threshold为方差的阈值\n",
    "VarianceThreshold(threshold=3).fit_transform(train,target_train)"
   ]
  },
  {
   "cell_type": "markdown",
   "metadata": {},
   "source": [
    "相关系数法\n",
    "- Pearson 相关系数\n",
    "  皮尔森相关系数是一种最简单的，可以帮助理解特征和响应变量之间关系的方法，该方法衡量的是变量之间的线性相关性。\n",
    "  结果的取值区间为 [-1，1] ， -1 表示完全的负相关， +1表示完全的正相关，0 表示没有线性相关。"
   ]
  },
  {
   "cell_type": "code",
   "execution_count": null,
   "metadata": {},
   "outputs": [],
   "source": [
    "from sklearn.feature_selection import SelectKBest\n",
    "from scipy.stats import pearsonr\n",
    "#选择K个最好的特征，返回选择特征后的数据\n",
    "#第一个参数为计算评估特征是否好的函数，该函数输入特征矩阵和目标向量，\n",
    "#输出二元组（评分，P值）的数组，数组第i项为第i个特征的评分和P值。在此定义为计算相关系数\n",
    "#参数k为选择的特征个数\n",
    "\n",
    "SelectKBest(k=5).fit_transform(train,target_train)"
   ]
  },
  {
   "cell_type": "markdown",
   "metadata": {},
   "source": [
    "卡方检验\n",
    "- 经典的卡方检验是用于检验自变量对因变量的相关性。 假设自变量有N种取值，因变量有M种取值，考虑自变量等于i且因变量等于j的样本频数的观察值与期望的差距。 其统计量如下： χ2=∑(A−T)2T，其中A为实际值，T为理论值\n",
    "- (注：卡方只能运用在正定矩阵上，否则会报错Input X must be non-negative)"
   ]
  },
  {
   "cell_type": "code",
   "execution_count": null,
   "metadata": {},
   "outputs": [],
   "source": [
    "from sklearn.feature_selection import SelectKBest\n",
    "from sklearn.feature_selection import chi2\n",
    "#参数k为选择的特征个数\n",
    "\n",
    "SelectKBest(chi2, k=5).fit_transform(train,target_train)"
   ]
  },
  {
   "cell_type": "markdown",
   "metadata": {},
   "source": [
    "互信息法\n",
    "- 经典的互信息也是评价自变量对因变量的相关性的。 在feature_selection库的SelectKBest类结合最大信息系数法可以用于选择特征，相关代码如下："
   ]
  },
  {
   "cell_type": "code",
   "execution_count": null,
   "metadata": {},
   "outputs": [],
   "source": [
    "from sklearn.feature_selection import SelectKBest\n",
    "from minepy import MINE\n",
    "#由于MINE的设计不是函数式的，定义mic方法将其为函数式的，\n",
    "#返回一个二元组，二元组的第2项设置成固定的P值0.5\n",
    "def mic(x, y):\n",
    "    m = MINE()\n",
    "    m.compute_score(x, y)\n",
    "    return (m.mic(), 0.5)\n",
    "#参数k为选择的特征个数\n",
    "SelectKBest(lambda X, Y: array(map(lambda x:mic(x, Y), X.T)).T, k=2).fit_transform(train,target_train)"
   ]
  },
  {
   "cell_type": "markdown",
   "metadata": {},
   "source": [
    "#### Wrapper （Recursive feature elimination，RFE）\n",
    "- 递归特征消除法 递归消除特征法使用一个基模型来进行多轮训练，每轮训练后，消除若干权值系数的特征，再基于新的特征集进行下一轮训练。 在feature_selection库的RFE类可以用于选择特征，相关代码如下（以逻辑回归为例）："
   ]
  },
  {
   "cell_type": "code",
   "execution_count": null,
   "metadata": {},
   "outputs": [],
   "source": [
    "from sklearn.feature_selection import RFE\n",
    "from sklearn.linear_model import LogisticRegression\n",
    "#递归特征消除法，返回特征选择后的数据\n",
    "#参数estimator为基模型\n",
    "#参数n_features_to_select为选择的特征个数\n",
    "\n",
    "RFE(estimator=LogisticRegression(), n_features_to_select=2).fit_transform(train,target_train)"
   ]
  },
  {
   "cell_type": "markdown",
   "metadata": {},
   "source": [
    "#### Embedded\n",
    "- 基于惩罚项的特征选择法 使用带惩罚项的基模型，除了筛选出特征外，同时也进行了降维。 在feature_selection库的SelectFromModel类结合逻辑回归模型可以用于选择特征，相关代码如下：\n"
   ]
  },
  {
   "cell_type": "code",
   "execution_count": null,
   "metadata": {},
   "outputs": [],
   "source": [
    "from sklearn.feature_selection import SelectFromModel\n",
    "from sklearn.linear_model import LogisticRegression\n",
    "#带L1惩罚项的逻辑回归作为基模型的特征选择\n",
    "\n",
    "SelectFromModel(LogisticRegression(penalty=\"l1\", C=0.1)).fit_transform(train,target_train)"
   ]
  },
  {
   "cell_type": "markdown",
   "metadata": {},
   "source": [
    "- 基于树模型的特征选择 树模型中GBDT也可用来作为基模型进行特征选择。 在feature_selection库的SelectFromModel类结合GBDT模型可以用于选择特征，相关代码如下：\n"
   ]
  },
  {
   "cell_type": "code",
   "execution_count": null,
   "metadata": {},
   "outputs": [],
   "source": [
    "from sklearn.feature_selection import SelectFromModel\n",
    "from sklearn.ensemble import GradientBoostingClassifier\n",
    "#GBDT作为基模型的特征选择\n",
    "SelectFromModel(GradientBoostingClassifier()).fit_transform(train,target_train)"
   ]
  },
  {
   "cell_type": "markdown",
   "metadata": {},
   "source": [
    "#### 本数据集中我们删除非入模特征后，并对缺失值填充，然后用计算协方差的方式看一下特征间相关性，然后进行模型训练"
   ]
  },
  {
   "cell_type": "code",
   "execution_count": null,
   "metadata": {},
   "outputs": [],
   "source": [
    "# 删除不需要的数据\n",
    "for data in [data_train, data_test_a]:\n",
    "    data.drop(['issueDate','id'], axis=1,inplace=True)"
   ]
  },
  {
   "cell_type": "code",
   "execution_count": null,
   "metadata": {},
   "outputs": [],
   "source": [
    "\"纵向用缺失值上面的值替换缺失值\"\n",
    "data_train = data_train.fillna(axis=0,method='ffill')"
   ]
  },
  {
   "cell_type": "code",
   "execution_count": 226,
   "metadata": {},
   "outputs": [],
   "source": [
    "x_train = data_train.drop(['isDefault','id'], axis=1)\n",
    "#计算协方差\n",
    "data_corr = x_train.corrwith(data_train.isDefault) #计算相关性\n",
    "result = pd.DataFrame(columns=['features', 'corr'])\n",
    "result['features'] = data_corr.index\n",
    "result['corr'] = data_corr.values"
   ]
  },
  {
   "cell_type": "code",
   "execution_count": 227,
   "metadata": {
    "scrolled": true
   },
   "outputs": [
    {
     "data": {
      "text/plain": [
       "<matplotlib.axes._subplots.AxesSubplot at 0x12d88ad10>"
      ]
     },
     "execution_count": 227,
     "metadata": {},
     "output_type": "execute_result"
    },
    {
     "data": {
      "image/png": "[encoded data removed]",
      "text/plain": [
       "<Figure size 504x504 with 2 Axes>"
      ]
     },
     "metadata": {
      "needs_background": "light"
     },
     "output_type": "display_data"
    }
   ],
   "source": [
    "# 当然也可以直接看图\n",
    "data_numeric = data_train[numerical_fea]\n",
    "correlation = data_numeric.corr()\n",
    "\n",
    "f , ax = plt.subplots(figsize = (7, 7))\n",
    "plt.title('Correlation of Numeric Features with Price',y=1,size=16)\n",
    "sns.heatmap(correlation,square = True,  vmax=0.8)"
   ]
  },
  {
   "cell_type": "code",
   "execution_count": 184,
   "metadata": {},
   "outputs": [],
   "source": [
    "features = [f for f in data_train.columns if f not in ['id','issueDate','isDefault'] and '_outliers' not in f]\n",
    "x_train = data_train[features]\n",
    "x_test = data_test_a[features]\n",
    "y_train = data_train['isDefault']"
   ]
  },
  {
   "cell_type": "code",
   "execution_count": 185,
   "metadata": {},
   "outputs": [],
   "source": [
    "def cv_model(clf, train_x, train_y, test_x, clf_name):\n",
    "    folds = 5\n",
    "    seed = 2020\n",
    "    kf = KFold(n_splits=folds, shuffle=True, random_state=seed)\n",
    "\n",
    "    train = np.zeros(train_x.shape[0])\n",
    "    test = np.zeros(test_x.shape[0])\n",
    "\n",
    "    cv_scores = []\n",
    "\n",
    "    for i, (train_index, valid_index) in enumerate(kf.split(train_x, train_y)):\n",
    "        print('************************************ {} ************************************'.format(str(i+1)))\n",
    "        trn_x, trn_y, val_x, val_y = train_x.iloc[train_index], train_y[train_index], train_x.iloc[valid_index], train_y[valid_index]\n",
    "\n",
    "        if clf_name == \"lgb\":\n",
    "            train_matrix = clf.Dataset(trn_x, label=trn_y)\n",
    "            valid_matrix = clf.Dataset(val_x, label=val_y)\n",
    "\n",
    "            params = {\n",
    "                'boosting_type': 'gbdt',\n",
    "                'objective': 'binary',\n",
    "                'metric': 'auc',\n",
    "                'min_child_weight': 5,\n",
    "                'num_leaves': 2 ** 5,\n",
    "                'lambda_l2': 10,\n",
    "                'feature_fraction': 0.8,\n",
    "                'bagging_fraction': 0.8,\n",
    "                'bagging_freq': 4,\n",
    "                'learning_rate': 0.1,\n",
    "                'seed': 2020,\n",
    "                'nthread': 28,\n",
    "                'n_jobs':24,\n",
    "                'silent': True,\n",
    "                'verbose': -1,\n",
    "            }\n",
    "\n",
    "            model = clf.train(params, train_matrix, 50000, valid_sets=[train_matrix, valid_matrix], verbose_eval=200,early_stopping_rounds=200)\n",
    "            val_pred = model.predict(val_x, num_iteration=model.best_iteration)\n",
    "            test_pred = model.predict(test_x, num_iteration=model.best_iteration)\n",
    "            \n",
    "            # print(list(sorted(zip(features, model.feature_importance(\"gain\")), key=lambda x: x[1], reverse=True))[:20])\n",
    "                \n",
    "        if clf_name == \"xgb\":\n",
    "            train_matrix = clf.DMatrix(trn_x , label=trn_y)\n",
    "            valid_matrix = clf.DMatrix(val_x , label=val_y)\n",
    "            \n",
    "            params = {'booster': 'gbtree',\n",
    "                      'objective': 'binary:logistic',\n",
    "                      'eval_metric': 'auc',\n",
    "                      'gamma': 1,\n",
    "                      'min_child_weight': 1.5,\n",
    "                      'max_depth': 5,\n",
    "                      'lambda': 10,\n",
    "                      'subsample': 0.7,\n",
    "                      'colsample_bytree': 0.7,\n",
    "                      'colsample_bylevel': 0.7,\n",
    "                      'eta': 0.04,\n",
    "                      'tree_method': 'exact',\n",
    "                      'seed': 2020,\n",
    "                      'nthread': 36,\n",
    "                      \"silent\": True,\n",
    "                      }\n",
    "            \n",
    "            watchlist = [(train_matrix, 'train'),(valid_matrix, 'eval')]\n",
    "            \n",
    "            model = clf.train(params, train_matrix, num_boost_round=50000, evals=watchlist, verbose_eval=200, early_stopping_rounds=200)\n",
    "            val_pred  = model.predict(valid_matrix, ntree_limit=model.best_ntree_limit)\n",
    "            test_pred = model.predict(test_x , ntree_limit=model.best_ntree_limit)\n",
    "                 \n",
    "        if clf_name == \"cat\":\n",
    "            params = {'learning_rate': 0.05, 'depth': 5, 'l2_leaf_reg': 10, 'bootstrap_type': 'Bernoulli',\n",
    "                      'od_type': 'Iter', 'od_wait': 50, 'random_seed': 11, 'allow_writing_files': False}\n",
    "            \n",
    "            model = clf(iterations=20000, **params)\n",
    "            model.fit(trn_x, trn_y, eval_set=(val_x, val_y),\n",
    "                      cat_features=[], use_best_model=True, verbose=500)\n",
    "            \n",
    "            val_pred  = model.predict(val_x)\n",
    "            test_pred = model.predict(test_x)\n",
    "            \n",
    "        train[valid_index] = val_pred\n",
    "        test = test_pred / kf.n_splits\n",
    "        cv_scores.append(roc_auc_score(val_y, val_pred))\n",
    "        \n",
    "        print(cv_scores)\n",
    "        \n",
    "    print(\"%s_scotrainre_list:\" % clf_name, cv_scores)\n",
    "    print(\"%s_score_mean:\" % clf_name, np.mean(cv_scores))\n",
    "    print(\"%s_score_std:\" % clf_name, np.std(cv_scores))\n",
    "    return train, test"
   ]
  },
  {
   "cell_type": "code",
   "execution_count": 186,
   "metadata": {},
   "outputs": [],
   "source": [
    "def lgb_model(x_train, y_train, x_test):\n",
    "    lgb_train, lgb_test = cv_model(lgb, x_train, y_train, x_test, \"lgb\")\n",
    "    return lgb_train, lgb_test\n",
    "\n",
    "def xgb_model(x_train, y_train, x_test):\n",
    "    xgb_train, xgb_test = cv_model(xgb, x_train, y_train, x_test, \"xgb\")\n",
    "    return xgb_train, xgb_test\n",
    "\n",
    "def cat_model(x_train, y_train, x_test):\n",
    "    cat_train, cat_test = cv_model(CatBoostRegressor, x_train, y_train, x_test, \"cat\")"
   ]
  },
  {
   "cell_type": "code",
   "execution_count": 187,
   "metadata": {},
   "outputs": [
    {
     "name": "stdout",
     "output_type": "stream",
     "text": [
      "************************************ 1 ************************************\n",
      "Training until validation scores don't improve for 200 rounds\n",
      "[200]\ttraining's auc: 0.749225\tvalid_1's auc: 0.729679\n",
      "[400]\ttraining's auc: 0.765075\tvalid_1's auc: 0.730496\n",
      "[600]\ttraining's auc: 0.778745\tvalid_1's auc: 0.730435\n",
      "Early stopping, best iteration is:\n",
      "[455]\ttraining's auc: 0.769202\tvalid_1's auc: 0.730686\n",
      "[0.7306859913754798]\n",
      "************************************ 2 ************************************\n",
      "Training until validation scores don't improve for 200 rounds\n",
      "[200]\ttraining's auc: 0.749221\tvalid_1's auc: 0.731315\n",
      "[400]\ttraining's auc: 0.765117\tvalid_1's auc: 0.731658\n",
      "[600]\ttraining's auc: 0.778542\tvalid_1's auc: 0.731333\n",
      "Early stopping, best iteration is:\n",
      "[407]\ttraining's auc: 0.765671\tvalid_1's auc: 0.73173\n",
      "[0.7306859913754798, 0.7317304414673989]\n",
      "************************************ 3 ************************************\n",
      "Training until validation scores don't improve for 200 rounds\n",
      "[200]\ttraining's auc: 0.748436\tvalid_1's auc: 0.732775\n",
      "[400]\ttraining's auc: 0.764216\tvalid_1's auc: 0.733173\n",
      "Early stopping, best iteration is:\n",
      "[386]\ttraining's auc: 0.763261\tvalid_1's auc: 0.733261\n",
      "[0.7306859913754798, 0.7317304414673989, 0.7332610441015461]\n",
      "************************************ 4 ************************************\n",
      "Training until validation scores don't improve for 200 rounds\n",
      "[200]\ttraining's auc: 0.749631\tvalid_1's auc: 0.728327\n",
      "[400]\ttraining's auc: 0.765139\tvalid_1's auc: 0.728845\n",
      "Early stopping, best iteration is:\n",
      "[286]\ttraining's auc: 0.756978\tvalid_1's auc: 0.728976\n",
      "[0.7306859913754798, 0.7317304414673989, 0.7332610441015461, 0.7289759386807912]\n",
      "************************************ 5 ************************************\n",
      "Training until validation scores don't improve for 200 rounds\n",
      "[200]\ttraining's auc: 0.748414\tvalid_1's auc: 0.732727\n",
      "[400]\ttraining's auc: 0.763727\tvalid_1's auc: 0.733531\n",
      "[600]\ttraining's auc: 0.777489\tvalid_1's auc: 0.733566\n",
      "Early stopping, best iteration is:\n",
      "[524]\ttraining's auc: 0.772372\tvalid_1's auc: 0.733772\n",
      "[0.7306859913754798, 0.7317304414673989, 0.7332610441015461, 0.7289759386807912, 0.7337723979789789]\n",
      "lgb_scotrainre_list: [0.7306859913754798, 0.7317304414673989, 0.7332610441015461, 0.7289759386807912, 0.7337723979789789]\n",
      "lgb_score_mean: 0.7316851627208389\n",
      "lgb_score_std: 0.0017424259863954693\n"
     ]
    }
   ],
   "source": [
    "lgb_train, lgb_test = lgb_model(x_train, y_train, x_test)"
   ]
  },
  {
   "cell_type": "code",
   "execution_count": 188,
   "metadata": {},
   "outputs": [],
   "source": [
    "testA_result = pd.read_csv('../testA_result.csv')"
   ]
  },
  {
   "cell_type": "code",
   "execution_count": 189,
   "metadata": {},
   "outputs": [
    {
     "data": {
      "text/plain": [
       "0.7290917729487896"
      ]
     },
     "execution_count": 189,
     "metadata": {},
     "output_type": "execute_result"
    }
   ],
   "source": [
    "roc_auc_score(testA_result['isDefault'].values, lgb_test)"
   ]
  },
  {
   "cell_type": "markdown",
   "metadata": {},
   "source": [
    "## 3.4 总结"
   ]
  },
  {
   "cell_type": "markdown",
   "metadata": {},
   "source": [
    "特征工程是机器学习，甚至是深度学习中最为重要的一部分，在实际应用中往往也是所花费时间最多的一步。各种算法书中对特征工程部分的讲解往往少得可怜，因为特征工程和具体的数据结合的太紧密，很难系统地覆盖所有场景。本章主要是通过一些常用的方法来做介绍，例如缺失值异常值的处理方法详细对任何数据集来说都是适用的。但对于分箱等操作本章给出了具体的几种思路，需要读者自己探索。在特征工程中比赛和具体的应用还是有所不同的，在实际的金融风控评分卡制作过程中，由于强调特征的可解释性，特征分箱尤其重要。学有余力同学可以自行多尝试，希望大家在本节学习中有所收获。"
   ]
  },
  {
   "cell_type": "markdown",
   "metadata": {},
   "source": [
    "END.\n",
    "\n",
    "【 言溪：Datawhale成员，金融风控爱好者。知乎地址：https://www.zhihu.com/people/exuding】"
   ]
  },
  {
   "cell_type": "markdown",
   "metadata": {},
   "source": [
    "关于Datawhale： Datawhale是一个专注于数据科学与AI领域的开源组织，汇集了众多领域院校和知名企业的优秀学习者，聚合了一群有开源精神和探索精神的团队成员。Datawhale 以“for the learner，和学习者一起成长”为愿景，鼓励真实地展现自我、开放包容、互信互助、敢于试错和勇于担当。同时 Datawhale 用开源的理念去探索开源内容、开源学习和开源方案，赋能人才培养，助力人才成长，建立起人与人，人与知识，人与企业和人与未来的联结。 本次数据挖掘路径学习，专题知识将在天池分享，详情可关注Datawhale：\n",
    "\n",
    "![logo.png](https://img-blog.csdnimg.cn/2020091301022698.png#pic_center)"
   ]
  },
  {
   "cell_type": "code",
   "execution_count": null,
   "metadata": {},
   "outputs": [],
   "source": []
  }
 ],
 "metadata": {
  "kernelspec": {
   "display_name": "Python 3",
   "language": "python",
   "name": "python3"
  },
  "language_info": {
   "codemirror_mode": {
    "name": "ipython",
    "version": 3
   },
   "file_extension": ".py",
   "mimetype": "text/x-python",
   "name": "python",
   "nbconvert_exporter": "python",
   "pygments_lexer": "ipython3",
   "version": "3.6.5"
  },
  "tianchi_metadata": {
   "competitions": [],
   "datasets": [],
   "description": "",
   "notebookId": "147269",
   "source": "dsw"
  }
 },
 "nbformat": 4,
 "nbformat_minor": 4
}
