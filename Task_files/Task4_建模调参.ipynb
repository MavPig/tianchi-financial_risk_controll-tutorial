{
 "cells": [
  {
   "cell_type": "markdown",
   "metadata": {
    "ExecuteTime": {
     "end_time": "2020-08-25T04:58:45.672809Z",
     "start_time": "2020-08-25T04:58:45.664883Z"
    }
   },
   "source": [
    "### 四、建模与调参\n",
    "\n",
    "此部分为零基础入门金融风控的 Task4 建模调参部分，带你来了解各种模型以及模型的评价和调参策略，欢迎大家后续多多交流。\n",
    "\n",
    "赛题：零基础入门数据挖掘 - 零基础入门金融风控之贷款违约预测\n",
    "\n",
    "项目地址：https://github.com/datawhalechina/team-learning-data-mining/tree/master/FinancialRiskControl\n",
    "\n",
    "比赛地址：https://tianchi.aliyun.com/competition/entrance/531830/introduction\n",
    "\n",
    "\n",
    "<br>\n",
    "\n",
    "#### 4.1 学习目标\n",
    "\n",
    "- 学习在金融分控领域常用的机器学习模型\n",
    "- 学习机器学习模型的建模过程与调参流程\n",
    "- 完成相应学习打卡任务 \n",
    "\n",
    "<br>\n",
    "\n",
    "#### 4.2 内容介绍\n",
    "\n",
    "- 逻辑回归模型：\n",
    "\n",
    "  - 理解逻辑回归模型；\n",
    "  - 逻辑回归模型的应用；\n",
    "  - 逻辑回归的优缺点；\n",
    "\n",
    "- 树模型：\n",
    "\n",
    "  - 理解树模型；\n",
    "  - 树模型的应用；\n",
    "  - 树模型的优缺点；\n",
    "\n",
    "- 集成模型\n",
    "\n",
    "  - 基于bagging思想的集成模型\n",
    "    - 随机森林模型\n",
    "  - 基于boosting思想的集成模型\n",
    "    - XGBoost模型\n",
    "    - LightGBM模型\n",
    "    - CatBoost模型\n",
    "\n",
    "- 模型对比与性能评估：\n",
    "\n",
    "  - 回归模型/树模型/集成模型；\n",
    "  - 模型评估方法；\n",
    "  - 模型评价结果；\n",
    "\n",
    "- 模型调参：\n",
    "\n",
    "  - 贪心调参方法；\n",
    "\n",
    "  - 网格调参方法；\n",
    "\n",
    "  - 贝叶斯调参方法； \n",
    "\n",
    "    \n",
    "<br>\n",
    "\n",
    "#### 4.3 模型相关原理介绍\n",
    "\n",
    "由于相关算法原理篇幅较长，本文推荐了一些博客与教材供初学者们进行学习。\n",
    "\n",
    "##### 4.3.1 逻辑回归模型\n",
    "\n",
    "https://blog.csdn.net/han_xiaoyang/article/details/49123419\n",
    "\n",
    "##### 4.3.2 决策树模型\n",
    "\n",
    "https://blog.csdn.net/c406495762/article/details/76262487\n",
    "\n",
    "##### 4.3.3 GBDT模型\n",
    "\n",
    "https://zhuanlan.zhihu.com/p/45145899\n",
    "\n",
    "##### 4.3.4 XGBoost模型\n",
    "\n",
    "https://blog.csdn.net/wuzhongqiang/article/details/104854890\n",
    "\n",
    "##### 4.3.5 LightGBM模型\n",
    "\n",
    "https://blog.csdn.net/wuzhongqiang/article/details/105350579\n",
    "\n",
    "##### 4.3.6 Catboost模型\n",
    "\n",
    "https://mp.weixin.qq.com/s/xloTLr5NJBgBspMQtxPoFA\n",
    "\n",
    "##### 4.3.7 时间序列模型(选学)\n",
    "\n",
    "RNN：https://zhuanlan.zhihu.com/p/45289691\n",
    "\n",
    "LSTM：https://zhuanlan.zhihu.com/p/83496936\n",
    "\n",
    "##### 4.3.8 推荐教材：\n",
    "\n",
    "《机器学习》 https://book.douban.com/subject/26708119/\n",
    "\n",
    "《统计学习方法》 https://book.douban.com/subject/10590856/\n",
    "\n",
    "《面向机器学习的特征工程》 https://book.douban.com/subject/26826639/\n",
    "\n",
    "《信用评分模型技术与应用》https://book.douban.com/subject/1488075/\n",
    "\n",
    "《数据化风控》https://book.douban.com/subject/30282558/ \n",
    "\n",
    "\n",
    "<br>\n",
    "\n",
    "#### 4.4 模型对比与性能评估\n",
    "\n",
    "##### 4.4.1 逻辑回归\n",
    "\n",
    "- 优点\n",
    "\n",
    "  - 训练速度较快，分类的时候，计算量仅仅只和特征的数目相关；\n",
    "  - 简单易理解，模型的可解释性非常好，从特征的权重可以看到不同的特征对最后结果的影响；\n",
    "  - 适合二分类问题，不需要缩放输入特征；\n",
    "  - 内存资源占用小，只需要存储各个维度的特征值；\n",
    "\n",
    "- 缺点\n",
    "\n",
    "  - **逻辑回归需要预先处理缺失值和异常值【可参考task3特征工程】；**\n",
    "\n",
    "  - 不能用Logistic回归去解决非线性问题，因为Logistic的决策面是线性的；\n",
    "\n",
    "  - 对多重共线性数据较为敏感，且很难处理数据不平衡的问题；\n",
    "\n",
    "  - 准确率并不是很高，因为形式非常简单，很难去拟合数据的真实分布； \n",
    "\n",
    "    \n",
    "<br>\n",
    "\n",
    "##### 4.4.2 决策树模型\n",
    "\n",
    "- 优点\n",
    "\n",
    "  - 简单直观，生成的决策树可以可视化展示\n",
    "  - **数据不需要预处理，不需要归一化，不需要处理缺失数据**\n",
    "  - 既可以处理离散值，也可以处理连续值\n",
    "\n",
    "- 缺点\n",
    "\n",
    "  - 决策树算法非常容易过拟合，导致泛化能力不强（可进行适当的剪枝）\n",
    "  - 采用的是贪心算法，容易得到局部最优解\n",
    "\n",
    "  \n",
    "<br>\n",
    "\n",
    "##### 4.4.3 集成模型集成方法（ensemble method）\n",
    "\n",
    "通过组合多个学习器来完成学习任务，通过集成方法，可以将多个弱学习器组合成一个强分类器，因此集成学习的泛化能力一般比单一分类器要好。\n",
    "\n",
    "集成方法主要包括Bagging和Boosting，Bagging和Boosting都是将已有的分类或回归算法通过一定方式组合起来，形成一个更加强大的分类。两种方法都是把若干个分类器整合为一个分类器的方法，只是整合的方式不一样，最终得到不一样的效果。常见的基于Baggin思想的集成模型有：随机森林、基于Boosting思想的集成模型有：Adaboost、GBDT、XgBoost、LightGBM等。 \n",
    "\n",
    "**Baggin和Boosting的区别总结如下：**\n",
    "\n",
    "- **样本选择上：** Bagging方法的训练集是从原始集中有放回的选取，所以从原始集中选出的各轮训练集之间是独立的；而Boosting方法需要每一轮的训练集不变，只是训练集中每个样本在分类器中的权重发生变化。而权值是根据上一轮的分类结果进行调整\n",
    "- **样例权重上：** Bagging方法使用均匀取样，所以每个样本的权重相等；而Boosting方法根据错误率不断调整样本的权值，错误率越大则权重越大\n",
    "- **预测函数上：** Bagging方法中所有预测函数的权重相等；而Boosting方法中每个弱分类器都有相应的权重，对于分类误差小的分类器会有更大的权重\n",
    "- **并行计算上：** Bagging方法中各个预测函数可以并行生成；而Boosting方法各个预测函数只能顺序生成，因为后一个模型参数需要前一轮模型的结果。 \n",
    "\n",
    "\n",
    "<br>\n",
    "\n",
    "##### 4.4.4 模型评估方法\n",
    "\n",
    "对于模型来说，其在训练集上面的误差我们称之为**训练误差**或者**经验误差**，而在测试集上的误差称之为**测试误差**。\n",
    "\n",
    "对于我们来说，我们更关心的是模型对于新样本的学习能力，即我们希望通过对已有样本的学习，尽可能的将所有潜在样本的普遍规律学到手，而如果模型对训练样本学的太好，则有可能把训练样本自身所具有的一些特点当做所有潜在样本的普遍特点，这时候我们就会出现**过拟合**的问题。\n",
    "\n",
    "因此我们通常将已有的数据集划分为训练集和测试集两部分，其中训练集用来训练模型，而测试集则是用来评估模型对于新样本的判别能力。\n",
    "\n",
    "**对于数据集的划分，我们通常要保证满足以下两个条件：**\n",
    "\n",
    "- 训练集和测试集的分布要与样本真实分布一致，即训练集和测试集都要保证是从样本真实分布中独立同分布采样而得；\n",
    "- 训练集和测试集要互斥 \n",
    "\n",
    "**对于数据集的划分有三种方法：留出法，交叉验证法和自助法，下面挨个介绍：**\n",
    "\n",
    "- **①留出法**\n",
    "\n",
    "  留出法是直接将数据集D划分为两个互斥的集合，其中一个集合作为训练集S，另一个作为测试集T。需要注意的是在划分的时候要尽可能保证数据分布的一致性，即避免因数据划分过程引入额外的偏差而对最终结果产生影响。为了保证数据分布的一致性，通常我们采用**分层采样**的方式来对数据进行采样。\n",
    "\n",
    "  **Tips：** 通常，会将数据集D中大约2/3~4/5的样本作为训练集，其余的作为测试集。 \n",
    "\n",
    "- **②交叉验证法**\n",
    "\n",
    "  **k折交叉验证**通常将数据集D分为k份，其中k-1份作为训练集，剩余的一份作为测试集，这样就可以获得k组训练/测试集，可以进行k次训练与测试，最终返回的是k个测试结果的均值。交叉验证中数据集的划分依然是依据**分层采样**的方式来进行。\n",
    "\n",
    "  对于交叉验证法，其k值的选取往往决定了评估结果的稳定性和保真性，**通常k值选取10。**\n",
    "\n",
    "  当k=1的时候，我们称之为**留一法**\n",
    "\n",
    "- **③自助法**\n",
    "\n",
    "  我们每次从数据集D中取一个样本作为训练集中的元素，然后把该样本放回，重复该行为m次，这样我们就可以得到大小为m的训练集，在这里面有的样本重复出现，有的样本则没有出现过，我们把那些没有出现过的样本作为测试集。\n",
    "\n",
    "  进行这样采样的原因是因为在D中约有36.8%的数据没有在训练集中出现过。留出法与交叉验证法都是使用**分层采样**的方式进行数据采样与划分，而自助法则是使用**有放回重复采样**的方式进行数据采样\n",
    "\n",
    "**数据集划分总结**\n",
    "\n",
    "- 对于数据量充足的时候，通常采用**留出法**或者**k折交叉验证法**来进行训练/测试集的划分；\n",
    "- 对于数据集小且难以有效划分训练/测试集时使用**自助法**；\n",
    "- 对于数据集小且可有效划分的时候最好使用**留一法**来进行划分，因为这种方法最为准确 \n",
    "\n",
    "\n",
    "<br>\n",
    "\n",
    "##### 4.4.5 模型评价标准\n",
    "\n",
    "对于本次比赛，我们选用auc作为模型评价标准，类似的评价标准还有ks、f1-score等，具体介绍与实现大家可以回顾下task1中的内容。\n",
    "\n",
    " **一起来看一下auc到底是什么？**\n",
    "\n",
    "在逻辑回归里面，对于正负例的界定，通常会设一个阈值，大于阈值的为正类，小于阈值为负类。如果我们减小这个阀值，更多的样本会被识别为正类，提高正类的识别率，但同时也会使得更多的负类被错误识别为正类。为了直观表示这一现象，引入ROC。\n",
    "\n",
    "根据分类结果计算得到ROC空间中相应的点，连接这些点就形成ROC curve，横坐标为False Positive Rate(FPR：假正率)，纵坐标为True Positive Rate(TPR：真正率)。 一般情况下，这个曲线都应该处于(0,0)和(1,1)连线的上方,如图：\n",
    "\n",
    "![img](https://raw.githubusercontent.com/double-point/GraphBed/master/machine_learning/logistic_reg/ROC%26AUC.png)\n",
    "\n",
    "ROC曲线中的四个点：\n",
    "- 点(0,1)：即FPR=0, TPR=1，意味着FN＝0且FP＝0，将所有的样本都正确分类；\n",
    "- 点(1,0)：即FPR=1，TPR=0，最差分类器，避开了所有正确答案；\n",
    "- 点(0,0)：即FPR=TPR=0，FP＝TP＝0，分类器把每个实例都预测为负类；\n",
    "- 点(1,1)：分类器把每个实例都预测为正类 \n",
    "\n",
    "总之：ROC曲线越接近左上角，该分类器的性能越好，其泛化性能就越好。而且一般来说，如果ROC是光滑的，那么基本可以判断没有太大的overfitting。\n",
    "\n",
    "**但是对于两个模型，我们如何判断哪个模型的泛化性能更优呢？这里我们有主要以下两种方法：**\n",
    "\n",
    "如果模型A的ROC曲线完全包住了模型B的ROC曲线，那么我们就认为模型A要优于模型B；\n",
    "\n",
    "如果两条曲线有交叉的话，我们就通过比较ROC与X，Y轴所围得曲线的面积来判断，面积越大，模型的性能就越优，**这个面积我们称之为AUC(area under ROC curve)** \n",
    "\n"
   ]
  },
  {
   "cell_type": "markdown",
   "metadata": {},
   "source": [
    "<br>\n",
    "\n",
    "#### 4.5 代码示例\n",
    "\n",
    "<br>\n",
    "\n",
    "##### 4.5.1 导入相关关和相关设置"
   ]
  },
  {
   "cell_type": "code",
   "execution_count": 4,
   "metadata": {
    "ExecuteTime": {
     "end_time": "2020-08-31T15:55:44.847068Z",
     "start_time": "2020-08-31T15:55:44.838059Z"
    }
   },
   "outputs": [],
   "source": [
    "import pandas as pd\n",
    "import numpy as np\n",
    "import warnings\n",
    "import os\n",
    "import seaborn as sns\n",
    "import matplotlib.pyplot as plt\n",
    "\"\"\"\n",
    "sns 相关设置\n",
    "@return:\n",
    "\"\"\"\n",
    "# 声明使用 Seaborn 样式\n",
    "sns.set()\n",
    "# 有五种seaborn的绘图风格，它们分别是：darkgrid, whitegrid, dark, white, ticks。默认的主题是darkgrid。\n",
    "sns.set_style(\"whitegrid\")\n",
    "# 有四个预置的环境，按大小从小到大排列分别为：paper, notebook, talk, poster。其中，notebook是默认的。\n",
    "sns.set_context('talk')\n",
    "# 中文字体设置-黑体\n",
    "plt.rcParams['font.sans-serif'] = ['SimHei']\n",
    "# 解决保存图像是负号'-'显示为方块的问题\n",
    "plt.rcParams['axes.unicode_minus'] = False\n",
    "# 解决Seaborn中文显示问题并调整字体大小\n",
    "sns.set(font='SimHei')"
   ]
  },
  {
   "cell_type": "markdown",
   "metadata": {},
   "source": [
    "##### 4.5.2 读取数据\n",
    "reduce_mem_usage 函数通过调整数据类型，帮助我们减少数据在内存中占用的空间"
   ]
  },
  {
   "cell_type": "code",
   "execution_count": 5,
   "metadata": {
    "ExecuteTime": {
     "end_time": "2020-08-31T15:55:48.195566Z",
     "start_time": "2020-08-31T15:55:48.181193Z"
    }
   },
   "outputs": [],
   "source": [
    "# reduce_mem_usage 函数通过调整数据类型，帮助我们减少数据在内存中占用的空间\n",
    "def reduce_mem_usage(df):\n",
    "    \"\"\" iterate through all the columns of a dataframe and modify the data type\n",
    "        to reduce memory usage.        \n",
    "    \"\"\"\n",
    "    start_mem = df.memory_usage().sum() \n",
    "    print('Memory usage of dataframe is {:.2f} MB'.format(start_mem))\n",
    "    \n",
    "    for col in df.columns:\n",
    "        col_type = df[col].dtype\n",
    "        \n",
    "        if col_type != object:\n",
    "            c_min = df[col].min()\n",
    "            c_max = df[col].max()\n",
    "            if str(col_type)[:3] == 'int':\n",
    "                if c_min > np.iinfo(np.int8).min and c_max < np.iinfo(np.int8).max:\n",
    "                    df[col] = df[col].astype(np.int8)\n",
    "                elif c_min > np.iinfo(np.int16).min and c_max < np.iinfo(np.int16).max:\n",
    "                    df[col] = df[col].astype(np.int16)\n",
    "                elif c_min > np.iinfo(np.int32).min and c_max < np.iinfo(np.int32).max:\n",
    "                    df[col] = df[col].astype(np.int32)\n",
    "                elif c_min > np.iinfo(np.int64).min and c_max < np.iinfo(np.int64).max:\n",
    "                    df[col] = df[col].astype(np.int64)  \n",
    "            else:\n",
    "                if c_min > np.finfo(np.float16).min and c_max < np.finfo(np.float16).max:\n",
    "                    df[col] = df[col].astype(np.float16)\n",
    "                elif c_min > np.finfo(np.float32).min and c_max < np.finfo(np.float32).max:\n",
    "                    df[col] = df[col].astype(np.float32)\n",
    "                else:\n",
    "                    df[col] = df[col].astype(np.float64)\n",
    "        else:\n",
    "            df[col] = df[col].astype('category')\n",
    "\n",
    "    end_mem = df.memory_usage().sum() \n",
    "    print('Memory usage after optimization is: {:.2f} MB'.format(end_mem))\n",
    "    print('Decreased by {:.1f}%'.format(100 * (start_mem - end_mem) / start_mem))\n",
    "    return df"
   ]
  },
  {
   "cell_type": "code",
   "execution_count": 6,
   "metadata": {
    "ExecuteTime": {
     "end_time": "2020-08-31T15:56:08.226781Z",
     "start_time": "2020-08-31T15:55:50.762472Z"
    }
   },
   "outputs": [
    {
     "name": "stdout",
     "output_type": "stream",
     "text": [
      "Memory usage of dataframe is 928000128.00 MB\n",
      "Memory usage after optimization is: 165006456.00 MB\n",
      "Decreased by 82.2%\n"
     ]
    }
   ],
   "source": [
    "data = pd.read_csv('dataset/data_for_model.csv')\n",
    "data = reduce_mem_usage(data)"
   ]
  },
  {
   "cell_type": "markdown",
   "metadata": {},
   "source": [
    "##### 4.5.3 简单建模\n",
    "> Tips1：金融风控的实际项目多涉及到信用评分，因此需要模型特征具有较好的可解释性，所以目前在实际项目中多还是以逻辑回归作为基础模型。但是在比赛中以得分高低为准，不需要严谨的可解释性，所以大多基于集成算法进行建模。\n",
    ">\n",
    "> Tips2：因为逻辑回归的算法特性，需要提前对异常值、缺失值数据进行处理【参考task3部分】\n",
    ">\n",
    "> Tips3：基于树模型的算法特性，异常值、缺失值处理可以跳过，但是对于业务较为了解的同学也可以自己对缺失异常值进行处理，效果可能会更优于模型处理的结果。\n",
    ">\n",
    "> 注：以下建模的源数据参考baseline进行了相应的特征工程，对于异常缺失值未进行相应的处理操作。\n",
    "\n",
    "建模之前的预操作"
   ]
  },
  {
   "cell_type": "code",
   "execution_count": 7,
   "metadata": {
    "ExecuteTime": {
     "end_time": "2020-08-31T15:56:12.272766Z",
     "start_time": "2020-08-31T15:56:11.727306Z"
    }
   },
   "outputs": [],
   "source": [
    "from sklearn.model_selection import KFold\n",
    "# 分离数据集，方便进行交叉验证\n",
    "X_train = data.loc[data['sample']=='train', :].drop(['id','issueDate','isDefault', 'sample'], axis=1)\n",
    "X_test = data.loc[data['sample']=='test', :].drop(['id','issueDate','isDefault', 'sample'], axis=1)\n",
    "y_train = data.loc[data['sample']=='train', 'isDefault']\n",
    "\n",
    "# 5折交叉验证\n",
    "folds = 5\n",
    "seed = 2020\n",
    "kf = KFold(n_splits=folds, shuffle=True, random_state=seed)"
   ]
  },
  {
   "cell_type": "code",
   "execution_count": 10,
   "metadata": {
    "ExecuteTime": {
     "end_time": "2020-08-31T15:57:34.485873Z",
     "start_time": "2020-08-31T15:57:00.501799Z"
    }
   },
   "outputs": [
    {
     "name": "stderr",
     "output_type": "stream",
     "text": [
      "D:\\software\\install\\Anaconda3\\lib\\site-packages\\lightgbm\\basic.py:794: UserWarning: silent keyword has been found in `params` and will be ignored.\n",
      "Please use silent argument of the Dataset constructor to pass this parameter.\n",
      "  .format(key))\n"
     ]
    },
    {
     "name": "stdout",
     "output_type": "stream",
     "text": [
      "Training until validation scores don't improve for 200 rounds\n",
      "Early stopping, best iteration is:\n",
      "[427]\tvalid_0's auc: 0.724947\n"
     ]
    }
   ],
   "source": [
    "\"\"\"对训练集数据进行划分，分成训练集和验证集，并进行相应的操作\"\"\"\n",
    "from sklearn.model_selection import train_test_split\n",
    "import lightgbm as lgb\n",
    "# 数据集划分\n",
    "X_train_split, X_val, y_train_split, y_val = train_test_split(X_train, y_train, test_size=0.2)\n",
    "train_matrix = lgb.Dataset(X_train_split, label=y_train_split)\n",
    "valid_matrix = lgb.Dataset(X_val, label=y_val)\n",
    "\n",
    "params = {\n",
    "            'boosting_type': 'gbdt',\n",
    "            'objective': 'binary',\n",
    "            'learning_rate': 0.1,\n",
    "            'metric': 'auc',\n",
    "            'min_child_weight': 1e-3,\n",
    "            'num_leaves': 31,\n",
    "            'max_depth': -1,\n",
    "            'reg_lambda': 0,\n",
    "            'reg_alpha': 0,\n",
    "            'feature_fraction': 1,\n",
    "            'bagging_fraction': 1,\n",
    "            'bagging_freq': 0,\n",
    "            'seed': 2020,\n",
    "            'nthread': 8,\n",
    "            'silent': True,\n",
    "            'verbose': -1,\n",
    "}\n",
    "\n",
    "\"\"\"使用训练集数据进行模型训练\"\"\"\n",
    "model = lgb.train(params, train_set=train_matrix, valid_sets=valid_matrix, num_boost_round=20000, verbose_eval=1000, early_stopping_rounds=200)"
   ]
  },
  {
   "cell_type": "markdown",
   "metadata": {},
   "source": [
    "对验证集进行预测"
   ]
  },
  {
   "cell_type": "code",
   "execution_count": 11,
   "metadata": {
    "ExecuteTime": {
     "end_time": "2020-08-31T15:57:36.329124Z",
     "start_time": "2020-08-31T15:57:34.487868Z"
    }
   },
   "outputs": [
    {
     "name": "stdout",
     "output_type": "stream",
     "text": [
      "未调参前lightgbm单模型在验证集上的AUC：0.7249469360631181\n"
     ]
    },
    {
     "data": {
      "image/png": "[encoded data removed]",
      "text/plain": [
       "<Figure size 576x576 with 1 Axes>"
      ]
     },
     "metadata": {},
     "output_type": "display_data"
    }
   ],
   "source": [
    "from sklearn import metrics\n",
    "from sklearn.metrics import roc_auc_score\n",
    "\n",
    "\"\"\"预测并计算roc的相关指标\"\"\"\n",
    "val_pre_lgb = model.predict(X_val, num_iteration=model.best_iteration)\n",
    "fpr, tpr, threshold = metrics.roc_curve(y_val, val_pre_lgb)\n",
    "roc_auc = metrics.auc(fpr, tpr)\n",
    "print('未调参前lightgbm单模型在验证集上的AUC：{}'.format(roc_auc))\n",
    "\"\"\"画出roc曲线图\"\"\"\n",
    "plt.figure(figsize=(8, 8))\n",
    "plt.title('Validation ROC')\n",
    "plt.plot(fpr, tpr, 'b', label = 'Val AUC = %0.4f' % roc_auc)\n",
    "plt.ylim(0,1)\n",
    "plt.xlim(0,1)\n",
    "plt.legend(loc='best')\n",
    "plt.title('ROC')\n",
    "plt.ylabel('True Positive Rate')\n",
    "plt.xlabel('False Positive Rate')\n",
    "# 画出对角线\n",
    "plt.plot([0,1],[0,1],'r--')\n",
    "plt.show()"
   ]
  },
  {
   "cell_type": "markdown",
   "metadata": {},
   "source": [
    "更进一步的，使用5折交叉验证进行模型性能评估"
   ]
  },
  {
   "cell_type": "code",
   "execution_count": 12,
   "metadata": {
    "ExecuteTime": {
     "end_time": "2020-08-31T16:01:23.099314Z",
     "start_time": "2020-08-31T15:58:10.212556Z"
    },
    "scrolled": true
   },
   "outputs": [
    {
     "name": "stdout",
     "output_type": "stream",
     "text": [
      "************************************ 1 ************************************\n"
     ]
    },
    {
     "name": "stderr",
     "output_type": "stream",
     "text": [
      "D:\\software\\install\\Anaconda3\\lib\\site-packages\\lightgbm\\basic.py:794: UserWarning: silent keyword has been found in `params` and will be ignored.\n",
      "Please use silent argument of the Dataset constructor to pass this parameter.\n",
      "  .format(key))\n"
     ]
    },
    {
     "name": "stdout",
     "output_type": "stream",
     "text": [
      "Training until validation scores don't improve for 200 rounds\n",
      "Early stopping, best iteration is:\n",
      "[548]\tvalid_0's auc: 0.730384\n",
      "[0.7303837315833632]\n",
      "************************************ 2 ************************************\n"
     ]
    },
    {
     "name": "stderr",
     "output_type": "stream",
     "text": [
      "D:\\software\\install\\Anaconda3\\lib\\site-packages\\lightgbm\\basic.py:794: UserWarning: silent keyword has been found in `params` and will be ignored.\n",
      "Please use silent argument of the Dataset constructor to pass this parameter.\n",
      "  .format(key))\n"
     ]
    },
    {
     "name": "stdout",
     "output_type": "stream",
     "text": [
      "Training until validation scores don't improve for 200 rounds\n",
      "Early stopping, best iteration is:\n",
      "[643]\tvalid_0's auc: 0.725869\n",
      "[0.7303837315833632, 0.7258692125145638]\n",
      "************************************ 3 ************************************\n"
     ]
    },
    {
     "name": "stderr",
     "output_type": "stream",
     "text": [
      "D:\\software\\install\\Anaconda3\\lib\\site-packages\\lightgbm\\basic.py:794: UserWarning: silent keyword has been found in `params` and will be ignored.\n",
      "Please use silent argument of the Dataset constructor to pass this parameter.\n",
      "  .format(key))\n"
     ]
    },
    {
     "name": "stdout",
     "output_type": "stream",
     "text": [
      "Training until validation scores don't improve for 200 rounds\n",
      "Early stopping, best iteration is:\n",
      "[362]\tvalid_0's auc: 0.730515\n",
      "[0.7303837315833632, 0.7258692125145638, 0.7305149209921737]\n",
      "************************************ 4 ************************************\n"
     ]
    },
    {
     "name": "stderr",
     "output_type": "stream",
     "text": [
      "D:\\software\\install\\Anaconda3\\lib\\site-packages\\lightgbm\\basic.py:794: UserWarning: silent keyword has been found in `params` and will be ignored.\n",
      "Please use silent argument of the Dataset constructor to pass this parameter.\n",
      "  .format(key))\n"
     ]
    },
    {
     "name": "stdout",
     "output_type": "stream",
     "text": [
      "Training until validation scores don't improve for 200 rounds\n",
      "Early stopping, best iteration is:\n",
      "[700]\tvalid_0's auc: 0.729612\n",
      "[0.7303837315833632, 0.7258692125145638, 0.7305149209921737, 0.7296117869375041]\n",
      "************************************ 5 ************************************\n"
     ]
    },
    {
     "name": "stderr",
     "output_type": "stream",
     "text": [
      "D:\\software\\install\\Anaconda3\\lib\\site-packages\\lightgbm\\basic.py:794: UserWarning: silent keyword has been found in `params` and will be ignored.\n",
      "Please use silent argument of the Dataset constructor to pass this parameter.\n",
      "  .format(key))\n"
     ]
    },
    {
     "name": "stdout",
     "output_type": "stream",
     "text": [
      "Training until validation scores don't improve for 200 rounds\n",
      "[1000]\tvalid_0's auc: 0.729339\n",
      "Early stopping, best iteration is:\n",
      "[833]\tvalid_0's auc: 0.729444\n",
      "[0.7303837315833632, 0.7258692125145638, 0.7305149209921737, 0.7296117869375041, 0.7294438695369077]\n",
      "lgb_scotrainre_list:[0.7303837315833632, 0.7258692125145638, 0.7305149209921737, 0.7296117869375041, 0.7294438695369077]\n",
      "lgb_score_mean:0.7291647043129024\n",
      "lgb_score_std:0.0016998349834934656\n"
     ]
    }
   ],
   "source": [
    "import lightgbm as lgb\n",
    "\"\"\"使用lightgbm 5折交叉验证进行建模预测\"\"\"\n",
    "cv_scores = []\n",
    "for i, (train_index, valid_index) in enumerate(kf.split(X_train, y_train)):\n",
    "    print('************************************ {} ************************************'.format(str(i+1)))\n",
    "    X_train_split, y_train_split, X_val, y_val = X_train.iloc[train_index], y_train[train_index], X_train.iloc[valid_index], y_train[valid_index]\n",
    "    \n",
    "    train_matrix = lgb.Dataset(X_train_split, label=y_train_split)\n",
    "    valid_matrix = lgb.Dataset(X_val, label=y_val)\n",
    "\n",
    "    params = {\n",
    "                'boosting_type': 'gbdt',\n",
    "                'objective': 'binary',\n",
    "                'learning_rate': 0.1,\n",
    "                'metric': 'auc',\n",
    "        \n",
    "                'min_child_weight': 1e-3,\n",
    "                'num_leaves': 31,\n",
    "                'max_depth': -1,\n",
    "                'reg_lambda': 0,\n",
    "                'reg_alpha': 0,\n",
    "                'feature_fraction': 1,\n",
    "                'bagging_fraction': 1,\n",
    "                'bagging_freq': 0,\n",
    "                'seed': 2020,\n",
    "                'nthread': 8,\n",
    "                'silent': True,\n",
    "                'verbose': -1,\n",
    "    }\n",
    "    \n",
    "    model = lgb.train(params, train_set=train_matrix, num_boost_round=20000, valid_sets=valid_matrix, verbose_eval=1000, early_stopping_rounds=200)\n",
    "    val_pred = model.predict(X_val, num_iteration=model.best_iteration)\n",
    "    \n",
    "    cv_scores.append(roc_auc_score(y_val, val_pred))\n",
    "    print(cv_scores)\n",
    "\n",
    "print(\"lgb_scotrainre_list:{}\".format(cv_scores))\n",
    "print(\"lgb_score_mean:{}\".format(np.mean(cv_scores)))\n",
    "print(\"lgb_score_std:{}\".format(np.std(cv_scores)))"
   ]
  },
  {
   "cell_type": "markdown",
   "metadata": {
    "ExecuteTime": {
     "end_time": "2020-08-24T07:26:47.935909Z",
     "start_time": "2020-08-24T07:26:47.909976Z"
    }
   },
   "source": [
    "##### 4.5.4 模型调参 \n",
    "\n",
    "**1. 贪心调参** \n",
    "\n",
    "先使用当前对模型影响最大的参数进行调优，达到当前参数下的模型最优化，再使用对模型影响次之的参数进行调优，如此下去，直到所有的参数调整完毕。<br>\n",
    "这个方法的缺点就是可能会调到局部最优而不是全局最优，但是只需要一步一步的进行参数最优化调试即可，容易理解。<br>\n",
    "需要注意的是在树模型中参数调整的顺序，也就是各个参数对模型的影响程度，这里列举一下日常调参过程中常用的参数和调参顺序：\n",
    "- ①：max_depth、num_leaves\n",
    "- ②：min_data_in_leaf、min_child_weight\n",
    "- ③：bagging_fraction、 feature_fraction、bagging_freq\n",
    "- ④：reg_lambda、reg_alpha\n",
    "- ⑤：min_split_gain\n"
   ]
  },
  {
   "cell_type": "code",
   "execution_count": null,
   "metadata": {},
   "outputs": [],
   "source": [
    "from sklearn.model_selection import cross_val_score\n",
    "\n",
    "# 调objective\n",
    "best_obj = dict()\n",
    "for obj in objective:\n",
    "    model = LGBMRegressor(objective=obj)\n",
    "    \"\"\"预测并计算roc的相关指标\"\"\"\n",
    "    score = cross_val_score(model, X_train, y_train, cv=5, scoring='roc_auc').mean()\n",
    "    best_obj[obj] = score\n",
    "    \n",
    "# num_leaves\n",
    "best_leaves = dict()\n",
    "for leaves in num_leaves:\n",
    "    model = LGBMRegressor(objective=min(best_obj.items(), key=lambda x:x[1])[0], num_leaves=leaves)\n",
    "    \"\"\"预测并计算roc的相关指标\"\"\"\n",
    "    score = cross_val_score(model, X_train, y_train, cv=5, scoring='roc_auc').mean()\n",
    "    best_leaves[leaves] = score\n",
    "    \n",
    "# max_depth\n",
    "best_depth = dict()\n",
    "for depth in max_depth:\n",
    "    model = LGBMRegressor(objective=min(best_obj.items(), key=lambda x:x[1])[0],\n",
    "                          num_leaves=min(best_leaves.items(), key=lambda x:x[1])[0],\n",
    "                          max_depth=depth)\n",
    "    \"\"\"预测并计算roc的相关指标\"\"\"\n",
    "    score = cross_val_score(model, X_train, y_train, cv=5, scoring='roc_auc').mean()\n",
    "    best_depth[depth] = score\n",
    "\n",
    "\"\"\"\n",
    "可依次将模型的参数通过上面的方式进行调整优化，并且通过可视化观察在每一个最优参数下模型的得分情况\n",
    "\"\"\""
   ]
  },
  {
   "cell_type": "markdown",
   "metadata": {},
   "source": [
    "**2. 网格搜索**\n",
    "\n",
    "sklearn 提供GridSearchCV用于进行网格搜索，只需要把模型的参数输进去，就能给出最优化的结果和参数。相比起贪心调参，网格搜索的结果会更优，但是网格搜索只适合于小数据集，一旦数据的量级上去了，很难得出结果。<br>\n",
    "\n",
    "同样以Lightgbm算法为例，进行网格搜索调参："
   ]
  },
  {
   "cell_type": "code",
   "execution_count": 20,
   "metadata": {
    "ExecuteTime": {
     "end_time": "2020-08-24T08:16:24.070769Z",
     "start_time": "2020-08-24T08:16:24.041881Z"
    }
   },
   "outputs": [],
   "source": [
    "\"\"\"通过网格搜索确定最优参数\"\"\"\n",
    "from sklearn.model_selection import GridSearchCV\n",
    "\n",
    "def get_best_cv_params(learning_rate=0.1, n_estimators=581, num_leaves=31, max_depth=-1, bagging_fraction=1.0, \n",
    "                       feature_fraction=1.0, bagging_freq=0, min_data_in_leaf=20, min_child_weight=0.001, \n",
    "                       min_split_gain=0, reg_lambda=0, reg_alpha=0, param_grid=None):\n",
    "    # 设置5折交叉验证\n",
    "    cv_fold = StratifiedKFold(n_splits=5, random_state=0, shuffle=True, )\n",
    "    \n",
    "    model_lgb = lgb.LGBMClassifier(learning_rate=learning_rate,\n",
    "                                   n_estimators=n_estimators,\n",
    "                                   num_leaves=num_leaves,\n",
    "                                   max_depth=max_depth,\n",
    "                                   bagging_fraction=bagging_fraction,\n",
    "                                   feature_fraction=feature_fraction,\n",
    "                                   bagging_freq=bagging_freq,\n",
    "                                   min_data_in_leaf=min_data_in_leaf,\n",
    "                                   min_child_weight=min_child_weight,\n",
    "                                   min_split_gain=min_split_gain,\n",
    "                                   reg_lambda=reg_lambda,\n",
    "                                   reg_alpha=reg_alpha,\n",
    "                                   n_jobs= 8\n",
    "                                  )\n",
    "    grid_search = GridSearchCV(estimator=model_lgb, \n",
    "                               cv=cv_fold,\n",
    "                               param_grid=param_grid,\n",
    "                               scoring='roc_auc'\n",
    "                              )\n",
    "    grid_search.fit(X_train, y_train)\n",
    "\n",
    "    print('模型当前最优参数为:{}'.format(grid_search.best_params_))\n",
    "    print('模型当前最优得分为:{}'.format(grid_search.best_score_))"
   ]
  },
  {
   "cell_type": "code",
   "execution_count": null,
   "metadata": {},
   "outputs": [],
   "source": [
    "\"\"\"以下代码未运行，耗时较长，请谨慎运行，且每一步的最优参数需要在下一步进行手动更新，请注意\"\"\"\n",
    "\n",
    "\"\"\"\n",
    "需要注意一下的是，除了获取上面的获取num_boost_round时候用的是原生的lightgbm（因为要用自带的cv）\n",
    "下面配合GridSearchCV时必须使用sklearn接口的lightgbm。\n",
    "\"\"\"\n",
    "\"\"\"设置n_estimators 为581，调整num_leaves和max_depth，这里选择先粗调再细调\"\"\"\n",
    "lgb_params = {'num_leaves': range(10, 80, 5), 'max_depth': range(3,10,2)}\n",
    "get_best_cv_params(learning_rate=0.1, n_estimators=581, num_leaves=None, max_depth=None, min_data_in_leaf=20, \n",
    "                   min_child_weight=0.001,bagging_fraction=1.0, feature_fraction=1.0, bagging_freq=0, \n",
    "                   min_split_gain=0, reg_lambda=0, reg_alpha=0, param_grid=lgb_params)\n",
    "\n",
    "\"\"\"num_leaves为30，max_depth为7，进一步细调num_leaves和max_depth\"\"\"\n",
    "lgb_params = {'num_leaves': range(25, 35, 1), 'max_depth': range(5,9,1)}\n",
    "get_best_cv_params(learning_rate=0.1, n_estimators=85, num_leaves=None, max_depth=None, min_data_in_leaf=20, \n",
    "                   min_child_weight=0.001,bagging_fraction=1.0, feature_fraction=1.0, bagging_freq=0, \n",
    "                   min_split_gain=0, reg_lambda=0, reg_alpha=0, param_grid=lgb_params)\n",
    "\n",
    "\"\"\"\n",
    "确定min_data_in_leaf为45，min_child_weight为0.001 ，下面进行bagging_fraction、feature_fraction和bagging_freq的调参\n",
    "\"\"\"\n",
    "lgb_params = {'bagging_fraction': [i/10 for i in range(5,10,1)], \n",
    "              'feature_fraction': [i/10 for i in range(5,10,1)],\n",
    "              'bagging_freq': range(0,81,10)\n",
    "             }\n",
    "get_best_cv_params(learning_rate=0.1, n_estimators=85, num_leaves=29, max_depth=7, min_data_in_leaf=45, \n",
    "                   min_child_weight=0.001,bagging_fraction=None, feature_fraction=None, bagging_freq=None, \n",
    "                   min_split_gain=0, reg_lambda=0, reg_alpha=0, param_grid=lgb_params)\n",
    "\n",
    "\"\"\"\n",
    "确定bagging_fraction为0.4、feature_fraction为0.6、bagging_freq为 ，下面进行reg_lambda、reg_alpha的调参\n",
    "\"\"\"\n",
    "lgb_params = {'reg_lambda': [0,0.001,0.01,0.03,0.08,0.3,0.5], 'reg_alpha': [0,0.001,0.01,0.03,0.08,0.3,0.5]}\n",
    "get_best_cv_params(learning_rate=0.1, n_estimators=85, num_leaves=29, max_depth=7, min_data_in_leaf=45, \n",
    "                   min_child_weight=0.001,bagging_fraction=0.9, feature_fraction=0.9, bagging_freq=40, \n",
    "                   min_split_gain=0, reg_lambda=None, reg_alpha=None, param_grid=lgb_params)\n",
    "\n",
    "\"\"\"\n",
    "确定reg_lambda、reg_alpha都为0，下面进行min_split_gain的调参\n",
    "\"\"\"\n",
    "lgb_params = {'min_split_gain': [i/10 for i in range(0,11,1)]}\n",
    "get_best_cv_params(learning_rate=0.1, n_estimators=85, num_leaves=29, max_depth=7, min_data_in_leaf=45, \n",
    "                   min_child_weight=0.001,bagging_fraction=0.9, feature_fraction=0.9, bagging_freq=40, \n",
    "                   min_split_gain=None, reg_lambda=0, reg_alpha=0, param_grid=lgb_params)"
   ]
  },
  {
   "cell_type": "code",
   "execution_count": null,
   "metadata": {},
   "outputs": [],
   "source": [
    "\"\"\"\n",
    "参数确定好了以后，我们设置一个比较小的learning_rate 0.005，来确定最终的num_boost_round\n",
    "\"\"\"\n",
    "# 设置5折交叉验证\n",
    "# cv_fold = StratifiedKFold(n_splits=5, random_state=0, shuffle=True, )\n",
    "final_params = {\n",
    "                'boosting_type': 'gbdt',\n",
    "                'learning_rate': 0.01,\n",
    "                'num_leaves': 29,\n",
    "                'max_depth': 7,\n",
    "                'min_data_in_leaf':45,\n",
    "                'min_child_weight':0.001,\n",
    "                'bagging_fraction': 0.9,\n",
    "                'feature_fraction': 0.9,\n",
    "                'bagging_freq': 40,\n",
    "                'min_split_gain': 0,\n",
    "                'reg_lambda':0,\n",
    "                'reg_alpha':0,\n",
    "                'nthread': 6\n",
    "               }\n",
    "\n",
    "cv_result = lgb.cv(train_set=lgb_train,\n",
    "                   early_stopping_rounds=20,\n",
    "                   num_boost_round=5000,\n",
    "                   nfold=5,\n",
    "                   stratified=True,\n",
    "                   shuffle=True,\n",
    "                   params=final_params,\n",
    "                   metrics='auc',\n",
    "                   seed=0,\n",
    "                  )\n",
    "\n",
    "print('迭代次数{}'.format(len(cv_result['auc-mean'])))\n",
    "print('交叉验证的AUC为{}'.format(max(cv_result['auc-mean'])))"
   ]
  },
  {
   "cell_type": "markdown",
   "metadata": {},
   "source": [
    "在实际调整过程中，可先设置一个较大的学习率（上面的例子中0.1），通过Lgb原生的cv函数进行树个数的确定，之后再通过上面的实例代码进行参数的调整优化。\n",
    "\n",
    "最后针对最优的参数设置一个较小的学习率（例如0.05），同样通过cv函数确定树的个数，确定最终的参数。\n",
    "\n",
    "需要注意的是，针对大数据集，上面每一层参数的调整都需要耗费较长时间\n"
   ]
  },
  {
   "cell_type": "markdown",
   "metadata": {},
   "source": [
    "\n",
    "**3.贝叶斯调参**\n",
    "\n",
    "在使用之前需要先安装包bayesian-optimization，运行如下命令即可：\n",
    "> pip install bayesian-optimization\n",
    "\n",
    "贝叶斯调参的主要思想是：给定优化的目标函数(广义的函数，只需指定输入和输出即可，无需知道内部结构以及数学性质)，通过不断地添加样本点来更新目标函数的后验分布(高斯过程,直到后验分布基本贴合于真实分布）。简单的说，就是考虑了上一次参数的信息，从而更好的调整当前的参数。\n",
    "\n",
    "<br>\n",
    "贝叶斯调参的步骤如下：\n",
    "\n",
    "- 定义优化函数(rf_cv）\n",
    "- 建立模型\n",
    "- 定义待优化的参数\n",
    "- 得到优化结果，并返回要优化的分数指标"
   ]
  },
  {
   "cell_type": "code",
   "execution_count": 13,
   "metadata": {
    "ExecuteTime": {
     "end_time": "2020-08-31T16:07:48.098486Z",
     "start_time": "2020-08-31T16:07:48.090229Z"
    }
   },
   "outputs": [],
   "source": [
    "from sklearn.model_selection import cross_val_score\n",
    "\n",
    "\"\"\"定义优化函数\"\"\"\n",
    "def rf_cv_lgb(num_leaves, max_depth, bagging_fraction, feature_fraction, bagging_freq, min_data_in_leaf, \n",
    "              min_child_weight, min_split_gain, reg_lambda, reg_alpha):\n",
    "    # 建立模型\n",
    "    model_lgb = lgb.LGBMClassifier(boosting_type='gbdt', bjective='binary', metric='auc',\n",
    "                                   learning_rate=0.1, n_estimators=5000,\n",
    "                                   num_leaves=int(num_leaves), max_depth=int(max_depth), \n",
    "                                   bagging_fraction=round(bagging_fraction, 2), feature_fraction=round(feature_fraction, 2),\n",
    "                                   bagging_freq=int(bagging_freq), min_data_in_leaf=int(min_data_in_leaf),\n",
    "                                   min_child_weight=min_child_weight, min_split_gain=min_split_gain,\n",
    "                                   reg_lambda=reg_lambda, reg_alpha=reg_alpha,\n",
    "                                   n_jobs= 8\n",
    "                                  )\n",
    "    \n",
    "    val = cross_val_score(model_lgb, X_train_split, y_train_split, cv=5, scoring='roc_auc').mean()\n",
    "    \n",
    "    return val"
   ]
  },
  {
   "cell_type": "code",
   "execution_count": 14,
   "metadata": {
    "ExecuteTime": {
     "end_time": "2020-08-31T18:14:01.736032Z",
     "start_time": "2020-08-31T16:07:53.669560Z"
    }
   },
   "outputs": [
    {
     "name": "stdout",
     "output_type": "stream",
     "text": [
      "|   iter    |  target   | baggin... | baggin... | featur... | max_depth | min_ch... | min_da... | min_sp... | num_le... | reg_alpha | reg_la... |\n",
      "-------------------------------------------------------------------------------------------------------------------------------------------------\n",
      "| \u001b[0m 1       \u001b[0m | \u001b[0m 0.7263  \u001b[0m | \u001b[0m 0.7196  \u001b[0m | \u001b[0m 80.73   \u001b[0m | \u001b[0m 0.7988  \u001b[0m | \u001b[0m 19.17   \u001b[0m | \u001b[0m 5.751   \u001b[0m | \u001b[0m 40.71   \u001b[0m | \u001b[0m 0.9548  \u001b[0m | \u001b[0m 176.2   \u001b[0m | \u001b[0m 2.939   \u001b[0m | \u001b[0m 7.212   \u001b[0m |\n",
      "| \u001b[95m 2       \u001b[0m | \u001b[95m 0.7279  \u001b[0m | \u001b[95m 0.8997  \u001b[0m | \u001b[95m 74.72   \u001b[0m | \u001b[95m 0.5904  \u001b[0m | \u001b[95m 7.259   \u001b[0m | \u001b[95m 6.175   \u001b[0m | \u001b[95m 92.03   \u001b[0m | \u001b[95m 0.4027  \u001b[0m | \u001b[95m 51.65   \u001b[0m | \u001b[95m 6.404   \u001b[0m | \u001b[95m 4.781   \u001b[0m |\n",
      "| \u001b[0m 3       \u001b[0m | \u001b[0m 0.7207  \u001b[0m | \u001b[0m 0.5133  \u001b[0m | \u001b[0m 16.53   \u001b[0m | \u001b[0m 0.9536  \u001b[0m | \u001b[0m 4.974   \u001b[0m | \u001b[0m 2.37    \u001b[0m | \u001b[0m 98.08   \u001b[0m | \u001b[0m 0.7909  \u001b[0m | \u001b[0m 52.12   \u001b[0m | \u001b[0m 4.443   \u001b[0m | \u001b[0m 4.429   \u001b[0m |\n",
      "| \u001b[0m 4       \u001b[0m | \u001b[0m 0.7276  \u001b[0m | \u001b[0m 0.6265  \u001b[0m | \u001b[0m 53.12   \u001b[0m | \u001b[0m 0.7307  \u001b[0m | \u001b[0m 10.67   \u001b[0m | \u001b[0m 1.824   \u001b[0m | \u001b[0m 18.98   \u001b[0m | \u001b[0m 0.954   \u001b[0m | \u001b[0m 60.47   \u001b[0m | \u001b[0m 6.963   \u001b[0m | \u001b[0m 1.999   \u001b[0m |\n",
      "| \u001b[0m 5       \u001b[0m | \u001b[0m 0.6963  \u001b[0m | \u001b[0m 0.6509  \u001b[0m | \u001b[0m 11.58   \u001b[0m | \u001b[0m 0.5386  \u001b[0m | \u001b[0m 11.21   \u001b[0m | \u001b[0m 7.85    \u001b[0m | \u001b[0m 11.4    \u001b[0m | \u001b[0m 0.4269  \u001b[0m | \u001b[0m 153.0   \u001b[0m | \u001b[0m 0.5227  \u001b[0m | \u001b[0m 2.257   \u001b[0m |\n",
      "| \u001b[0m 6       \u001b[0m | \u001b[0m 0.7276  \u001b[0m | \u001b[0m 0.6241  \u001b[0m | \u001b[0m 49.76   \u001b[0m | \u001b[0m 0.6057  \u001b[0m | \u001b[0m 10.34   \u001b[0m | \u001b[0m 1.718   \u001b[0m | \u001b[0m 22.43   \u001b[0m | \u001b[0m 0.8294  \u001b[0m | \u001b[0m 55.68   \u001b[0m | \u001b[0m 6.759   \u001b[0m | \u001b[0m 2.6     \u001b[0m |\n",
      "| \u001b[95m 7       \u001b[0m | \u001b[95m 0.7283  \u001b[0m | \u001b[95m 0.9815  \u001b[0m | \u001b[95m 96.15   \u001b[0m | \u001b[95m 0.6961  \u001b[0m | \u001b[95m 19.45   \u001b[0m | \u001b[95m 1.627   \u001b[0m | \u001b[95m 37.7    \u001b[0m | \u001b[95m 0.4185  \u001b[0m | \u001b[95m 14.22   \u001b[0m | \u001b[95m 7.057   \u001b[0m | \u001b[95m 9.924   \u001b[0m |\n",
      "| \u001b[0m 8       \u001b[0m | \u001b[0m 0.7278  \u001b[0m | \u001b[0m 0.7139  \u001b[0m | \u001b[0m 96.83   \u001b[0m | \u001b[0m 0.5063  \u001b[0m | \u001b[0m 3.941   \u001b[0m | \u001b[0m 1.469   \u001b[0m | \u001b[0m 97.28   \u001b[0m | \u001b[0m 0.07553 \u001b[0m | \u001b[0m 196.9   \u001b[0m | \u001b[0m 7.988   \u001b[0m | \u001b[0m 2.159   \u001b[0m |\n",
      "| \u001b[0m 9       \u001b[0m | \u001b[0m 0.7195  \u001b[0m | \u001b[0m 0.5352  \u001b[0m | \u001b[0m 98.72   \u001b[0m | \u001b[0m 0.9699  \u001b[0m | \u001b[0m 4.445   \u001b[0m | \u001b[0m 1.767   \u001b[0m | \u001b[0m 13.91   \u001b[0m | \u001b[0m 0.1647  \u001b[0m | \u001b[0m 191.5   \u001b[0m | \u001b[0m 4.003   \u001b[0m | \u001b[0m 2.027   \u001b[0m |\n",
      "| \u001b[0m 10      \u001b[0m | \u001b[0m 0.7281  \u001b[0m | \u001b[0m 0.7281  \u001b[0m | \u001b[0m 73.63   \u001b[0m | \u001b[0m 0.5598  \u001b[0m | \u001b[0m 19.29   \u001b[0m | \u001b[0m 0.5344  \u001b[0m | \u001b[0m 99.66   \u001b[0m | \u001b[0m 0.933   \u001b[0m | \u001b[0m 101.4   \u001b[0m | \u001b[0m 8.836   \u001b[0m | \u001b[0m 0.9222  \u001b[0m |\n",
      "| \u001b[0m 11      \u001b[0m | \u001b[0m 0.7279  \u001b[0m | \u001b[0m 0.8213  \u001b[0m | \u001b[0m 0.05856 \u001b[0m | \u001b[0m 0.7626  \u001b[0m | \u001b[0m 17.49   \u001b[0m | \u001b[0m 8.447   \u001b[0m | \u001b[0m 10.71   \u001b[0m | \u001b[0m 0.3252  \u001b[0m | \u001b[0m 13.64   \u001b[0m | \u001b[0m 9.319   \u001b[0m | \u001b[0m 0.4747  \u001b[0m |\n",
      "| \u001b[0m 12      \u001b[0m | \u001b[0m 0.7281  \u001b[0m | \u001b[0m 0.8372  \u001b[0m | \u001b[0m 95.71   \u001b[0m | \u001b[0m 0.9598  \u001b[0m | \u001b[0m 10.32   \u001b[0m | \u001b[0m 8.394   \u001b[0m | \u001b[0m 15.23   \u001b[0m | \u001b[0m 0.4909  \u001b[0m | \u001b[0m 94.48   \u001b[0m | \u001b[0m 9.486   \u001b[0m | \u001b[0m 9.044   \u001b[0m |\n",
      "| \u001b[0m 13      \u001b[0m | \u001b[0m 0.6993  \u001b[0m | \u001b[0m 0.5183  \u001b[0m | \u001b[0m 99.02   \u001b[0m | \u001b[0m 0.542   \u001b[0m | \u001b[0m 15.5    \u001b[0m | \u001b[0m 8.35    \u001b[0m | \u001b[0m 38.15   \u001b[0m | \u001b[0m 0.4079  \u001b[0m | \u001b[0m 58.01   \u001b[0m | \u001b[0m 0.2668  \u001b[0m | \u001b[0m 1.652   \u001b[0m |\n",
      "| \u001b[0m 14      \u001b[0m | \u001b[0m 0.7267  \u001b[0m | \u001b[0m 0.7933  \u001b[0m | \u001b[0m 4.459   \u001b[0m | \u001b[0m 0.79    \u001b[0m | \u001b[0m 7.557   \u001b[0m | \u001b[0m 2.43    \u001b[0m | \u001b[0m 27.91   \u001b[0m | \u001b[0m 0.8725  \u001b[0m | \u001b[0m 28.32   \u001b[0m | \u001b[0m 9.967   \u001b[0m | \u001b[0m 9.885   \u001b[0m |\n",
      "| \u001b[0m 15      \u001b[0m | \u001b[0m 0.6979  \u001b[0m | \u001b[0m 0.9419  \u001b[0m | \u001b[0m 1.22    \u001b[0m | \u001b[0m 0.835   \u001b[0m | \u001b[0m 11.56   \u001b[0m | \u001b[0m 9.962   \u001b[0m | \u001b[0m 93.79   \u001b[0m | \u001b[0m 0.018   \u001b[0m | \u001b[0m 197.6   \u001b[0m | \u001b[0m 9.711   \u001b[0m | \u001b[0m 3.78    \u001b[0m |\n",
      "=================================================================================================================================================\n"
     ]
    }
   ],
   "source": [
    "from bayes_opt import BayesianOptimization\n",
    "\"\"\"定义优化参数\"\"\"\n",
    "bayes_lgb = BayesianOptimization(\n",
    "    rf_cv_lgb, \n",
    "    {\n",
    "        'num_leaves':(10, 200),\n",
    "        'max_depth':(3, 20),\n",
    "        'bagging_fraction':(0.5, 1.0),\n",
    "        'feature_fraction':(0.5, 1.0),\n",
    "        'bagging_freq':(0, 100),\n",
    "        'min_data_in_leaf':(10,100),\n",
    "        'min_child_weight':(0, 10),\n",
    "        'min_split_gain':(0.0, 1.0),\n",
    "        'reg_alpha':(0.0, 10),\n",
    "        'reg_lambda':(0.0, 10),\n",
    "    }\n",
    ")\n",
    "\n",
    "\"\"\"开始优化\"\"\"\n",
    "bayes_lgb.maximize(n_iter=10)"
   ]
  },
  {
   "cell_type": "code",
   "execution_count": 15,
   "metadata": {
    "ExecuteTime": {
     "end_time": "2020-08-31T18:14:01.742017Z",
     "start_time": "2020-08-31T18:14:01.737030Z"
    }
   },
   "outputs": [
    {
     "data": {
      "text/plain": [
       "{'target': 0.7282530196283977,\n",
       " 'params': {'bagging_fraction': 0.9815471914843896,\n",
       "  'bagging_freq': 96.14757648686668,\n",
       "  'feature_fraction': 0.6961281791730929,\n",
       "  'max_depth': 19.45450235568963,\n",
       "  'min_child_weight': 1.6266132496156782,\n",
       "  'min_data_in_leaf': 37.697878831472295,\n",
       "  'min_split_gain': 0.4184947943942168,\n",
       "  'num_leaves': 14.221122487200399,\n",
       "  'reg_alpha': 7.056502173310882,\n",
       "  'reg_lambda': 9.924023764203156}}"
      ]
     },
     "execution_count": 15,
     "metadata": {},
     "output_type": "execute_result"
    }
   ],
   "source": [
    "\"\"\"显示优化结果\"\"\"\n",
    "bayes_lgb.max"
   ]
  },
  {
   "cell_type": "code",
   "execution_count": 17,
   "metadata": {
    "ExecuteTime": {
     "end_time": "2020-09-01T01:42:12.530890Z",
     "start_time": "2020-09-01T01:08:16.527097Z"
    }
   },
   "outputs": [
    {
     "name": "stdout",
     "output_type": "stream",
     "text": [
      "迭代次数14269\n",
      "最终模型的AUC为0.7315032037635779\n"
     ]
    }
   ],
   "source": [
    "\"\"\"调整一个较小的学习率，并通过cv函数确定当前最优的迭代次数\"\"\"\n",
    "base_params_lgb = {\n",
    "                    'boosting_type': 'gbdt',\n",
    "                    'objective': 'binary',\n",
    "                    'metric': 'auc',\n",
    "                    'learning_rate': 0.01,\n",
    "                    'num_leaves': 14,\n",
    "                    'max_depth': 19,\n",
    "                    'min_data_in_leaf': 37,\n",
    "                    'min_child_weight':1.6,\n",
    "                    'bagging_fraction': 0.98,\n",
    "                    'feature_fraction': 0.69,\n",
    "                    'bagging_freq': 96,\n",
    "                    'reg_lambda': 9,\n",
    "                    'reg_alpha': 7,\n",
    "                    'min_split_gain': 0.4,\n",
    "                    'nthread': 8,\n",
    "                    'seed': 2020,\n",
    "                    'silent': True,\n",
    "                    'verbose': -1,\n",
    "}\n",
    "\n",
    "cv_result_lgb = lgb.cv(\n",
    "    train_set=train_matrix,\n",
    "    early_stopping_rounds=1000, \n",
    "    num_boost_round=20000,\n",
    "    nfold=5,\n",
    "    stratified=True,\n",
    "    shuffle=True,\n",
    "    params=base_params_lgb,\n",
    "    metrics='auc',\n",
    "    seed=0\n",
    ")\n",
    "\n",
    "print('迭代次数{}'.format(len(cv_result_lgb['auc-mean'])))\n",
    "print('最终模型的AUC为{}'.format(max(cv_result_lgb['auc-mean'])))"
   ]
  },
  {
   "cell_type": "markdown",
   "metadata": {},
   "source": [
    "**模型参数已经确定，建立最终模型并对验证集进行验证**"
   ]
  },
  {
   "cell_type": "code",
   "execution_count": 18,
   "metadata": {
    "ExecuteTime": {
     "end_time": "2020-09-01T02:28:49.766004Z",
     "start_time": "2020-09-01T01:45:47.801258Z"
    },
    "scrolled": true
   },
   "outputs": [
    {
     "name": "stdout",
     "output_type": "stream",
     "text": [
      "************************************ 1 ************************************\n"
     ]
    },
    {
     "name": "stderr",
     "output_type": "stream",
     "text": [
      "D:\\software\\install\\Anaconda3\\lib\\site-packages\\lightgbm\\basic.py:794: UserWarning: silent keyword has been found in `params` and will be ignored.\n",
      "Please use silent argument of the Dataset constructor to pass this parameter.\n",
      "  .format(key))\n"
     ]
    },
    {
     "name": "stdout",
     "output_type": "stream",
     "text": [
      "Training until validation scores don't improve for 200 rounds\n",
      "[1000]\tvalid_0's auc: 0.724676\n",
      "[2000]\tvalid_0's auc: 0.728477\n",
      "[3000]\tvalid_0's auc: 0.729863\n",
      "[4000]\tvalid_0's auc: 0.730581\n",
      "[5000]\tvalid_0's auc: 0.731193\n",
      "[6000]\tvalid_0's auc: 0.731638\n",
      "[7000]\tvalid_0's auc: 0.731966\n",
      "[8000]\tvalid_0's auc: 0.732294\n",
      "[9000]\tvalid_0's auc: 0.732471\n",
      "[10000]\tvalid_0's auc: 0.732644\n",
      "[11000]\tvalid_0's auc: 0.732756\n",
      "[12000]\tvalid_0's auc: 0.732911\n",
      "Early stopping, best iteration is:\n",
      "[12687]\tvalid_0's auc: 0.732973\n",
      "[0.7329726464187137]\n",
      "************************************ 2 ************************************\n"
     ]
    },
    {
     "name": "stderr",
     "output_type": "stream",
     "text": [
      "D:\\software\\install\\Anaconda3\\lib\\site-packages\\lightgbm\\basic.py:794: UserWarning: silent keyword has been found in `params` and will be ignored.\n",
      "Please use silent argument of the Dataset constructor to pass this parameter.\n",
      "  .format(key))\n"
     ]
    },
    {
     "name": "stdout",
     "output_type": "stream",
     "text": [
      "Training until validation scores don't improve for 200 rounds\n",
      "[1000]\tvalid_0's auc: 0.721247\n",
      "[2000]\tvalid_0's auc: 0.724996\n",
      "[3000]\tvalid_0's auc: 0.726328\n",
      "[4000]\tvalid_0's auc: 0.727099\n",
      "[5000]\tvalid_0's auc: 0.727597\n",
      "[6000]\tvalid_0's auc: 0.727968\n",
      "[7000]\tvalid_0's auc: 0.728409\n",
      "[8000]\tvalid_0's auc: 0.728648\n",
      "[9000]\tvalid_0's auc: 0.728889\n",
      "[10000]\tvalid_0's auc: 0.729017\n",
      "[11000]\tvalid_0's auc: 0.72913\n",
      "[12000]\tvalid_0's auc: 0.7293\n",
      "[13000]\tvalid_0's auc: 0.729426\n",
      "Early stopping, best iteration is:\n",
      "[13014]\tvalid_0's auc: 0.729429\n",
      "[0.7329726464187137, 0.7294292852806246]\n",
      "************************************ 3 ************************************\n"
     ]
    },
    {
     "name": "stderr",
     "output_type": "stream",
     "text": [
      "D:\\software\\install\\Anaconda3\\lib\\site-packages\\lightgbm\\basic.py:794: UserWarning: silent keyword has been found in `params` and will be ignored.\n",
      "Please use silent argument of the Dataset constructor to pass this parameter.\n",
      "  .format(key))\n"
     ]
    },
    {
     "name": "stdout",
     "output_type": "stream",
     "text": [
      "Training until validation scores don't improve for 200 rounds\n",
      "[1000]\tvalid_0's auc: 0.725542\n",
      "[2000]\tvalid_0's auc: 0.729287\n",
      "[3000]\tvalid_0's auc: 0.730627\n",
      "[4000]\tvalid_0's auc: 0.731514\n",
      "[5000]\tvalid_0's auc: 0.7321\n",
      "[6000]\tvalid_0's auc: 0.732653\n",
      "[7000]\tvalid_0's auc: 0.732959\n",
      "[8000]\tvalid_0's auc: 0.733206\n",
      "[9000]\tvalid_0's auc: 0.733471\n",
      "[10000]\tvalid_0's auc: 0.733665\n",
      "[11000]\tvalid_0's auc: 0.733858\n",
      "[12000]\tvalid_0's auc: 0.734001\n",
      "[13000]\tvalid_0's auc: 0.734086\n",
      "Early stopping, best iteration is:\n",
      "[13640]\tvalid_0's auc: 0.734151\n",
      "[0.7329726464187137, 0.7294292852806246, 0.7341505801564857]\n",
      "************************************ 4 ************************************\n"
     ]
    },
    {
     "name": "stderr",
     "output_type": "stream",
     "text": [
      "D:\\software\\install\\Anaconda3\\lib\\site-packages\\lightgbm\\basic.py:794: UserWarning: silent keyword has been found in `params` and will be ignored.\n",
      "Please use silent argument of the Dataset constructor to pass this parameter.\n",
      "  .format(key))\n"
     ]
    },
    {
     "name": "stdout",
     "output_type": "stream",
     "text": [
      "Training until validation scores don't improve for 200 rounds\n",
      "[1000]\tvalid_0's auc: 0.723942\n",
      "[2000]\tvalid_0's auc: 0.727793\n",
      "[3000]\tvalid_0's auc: 0.729261\n",
      "[4000]\tvalid_0's auc: 0.730247\n",
      "[5000]\tvalid_0's auc: 0.730821\n",
      "[6000]\tvalid_0's auc: 0.731352\n",
      "[7000]\tvalid_0's auc: 0.731793\n",
      "[8000]\tvalid_0's auc: 0.732006\n",
      "[9000]\tvalid_0's auc: 0.732191\n",
      "[10000]\tvalid_0's auc: 0.732363\n",
      "[11000]\tvalid_0's auc: 0.732604\n",
      "[12000]\tvalid_0's auc: 0.732778\n",
      "Early stopping, best iteration is:\n",
      "[12787]\tvalid_0's auc: 0.732833\n",
      "[0.7329726464187137, 0.7294292852806246, 0.7341505801564857, 0.7328331383185244]\n",
      "************************************ 5 ************************************\n"
     ]
    },
    {
     "name": "stderr",
     "output_type": "stream",
     "text": [
      "D:\\software\\install\\Anaconda3\\lib\\site-packages\\lightgbm\\basic.py:794: UserWarning: silent keyword has been found in `params` and will be ignored.\n",
      "Please use silent argument of the Dataset constructor to pass this parameter.\n",
      "  .format(key))\n"
     ]
    },
    {
     "name": "stdout",
     "output_type": "stream",
     "text": [
      "Training until validation scores don't improve for 200 rounds\n",
      "[1000]\tvalid_0's auc: 0.723676\n",
      "[2000]\tvalid_0's auc: 0.727282\n",
      "[3000]\tvalid_0's auc: 0.728593\n",
      "[4000]\tvalid_0's auc: 0.729493\n",
      "[5000]\tvalid_0's auc: 0.730087\n",
      "[6000]\tvalid_0's auc: 0.730515\n",
      "[7000]\tvalid_0's auc: 0.730872\n",
      "[8000]\tvalid_0's auc: 0.731121\n",
      "[9000]\tvalid_0's auc: 0.731351\n",
      "[10000]\tvalid_0's auc: 0.731502\n",
      "[11000]\tvalid_0's auc: 0.731707\n",
      "Early stopping, best iteration is:\n",
      "[11192]\tvalid_0's auc: 0.731741\n",
      "[0.7329726464187137, 0.7294292852806246, 0.7341505801564857, 0.7328331383185244, 0.7317405262608612]\n",
      "lgb_scotrainre_list:[0.7329726464187137, 0.7294292852806246, 0.7341505801564857, 0.7328331383185244, 0.7317405262608612]\n",
      "lgb_score_mean:0.732225235287042\n",
      "lgb_score_std:0.0015929470575114753\n"
     ]
    }
   ],
   "source": [
    "import lightgbm as lgb\n",
    "\"\"\"使用lightgbm 5折交叉验证进行建模预测\"\"\"\n",
    "cv_scores = []\n",
    "for i, (train_index, valid_index) in enumerate(kf.split(X_train, y_train)):\n",
    "    print('************************************ {} ************************************'.format(str(i+1)))\n",
    "    X_train_split, y_train_split, X_val, y_val = X_train.iloc[train_index], y_train[train_index], X_train.iloc[valid_index], y_train[valid_index]\n",
    "    \n",
    "    train_matrix = lgb.Dataset(X_train_split, label=y_train_split)\n",
    "    valid_matrix = lgb.Dataset(X_val, label=y_val)\n",
    "\n",
    "    params = {\n",
    "                'boosting_type': 'gbdt',\n",
    "                'objective': 'binary',\n",
    "                'metric': 'auc',\n",
    "                'learning_rate': 0.01,\n",
    "                'num_leaves': 14,\n",
    "                'max_depth': 19,\n",
    "                'min_data_in_leaf': 37,\n",
    "                'min_child_weight':1.6,\n",
    "                'bagging_fraction': 0.98,\n",
    "                'feature_fraction': 0.69,\n",
    "                'bagging_freq': 96,\n",
    "                'reg_lambda': 9,\n",
    "                'reg_alpha': 7,\n",
    "                'min_split_gain': 0.4,\n",
    "                'nthread': 8,\n",
    "                'seed': 2020,\n",
    "                'silent': True,\n",
    "    }\n",
    "    \n",
    "    model = lgb.train(params, train_set=train_matrix, num_boost_round=14269, valid_sets=valid_matrix, verbose_eval=1000, early_stopping_rounds=200)\n",
    "    val_pred = model.predict(X_val, num_iteration=model.best_iteration)\n",
    "    \n",
    "    cv_scores.append(roc_auc_score(y_val, val_pred))\n",
    "    print(cv_scores)\n",
    "\n",
    "print(\"lgb_scotrainre_list:{}\".format(cv_scores))\n",
    "print(\"lgb_score_mean:{}\".format(np.mean(cv_scores)))\n",
    "print(\"lgb_score_std:{}\".format(np.std(cv_scores)))"
   ]
  },
  {
   "cell_type": "markdown",
   "metadata": {},
   "source": [
    "通过5折交叉验证可以发现，模型迭代次数在13000次的时候会停之，那么我们在建立新模型时直接设置最大迭代次数，并使用验证集进行模型预测"
   ]
  },
  {
   "cell_type": "code",
   "execution_count": 19,
   "metadata": {
    "ExecuteTime": {
     "end_time": "2020-09-01T02:53:09.050815Z",
     "start_time": "2020-09-01T02:45:49.867686Z"
    }
   },
   "outputs": [
    {
     "name": "stdout",
     "output_type": "stream",
     "text": [
      "Training until validation scores don't improve for 200 rounds\n",
      "[1000]\tvalid_0's auc: 0.723676\n",
      "[2000]\tvalid_0's auc: 0.727282\n",
      "[3000]\tvalid_0's auc: 0.728593\n",
      "[4000]\tvalid_0's auc: 0.729493\n",
      "[5000]\tvalid_0's auc: 0.730087\n",
      "[6000]\tvalid_0's auc: 0.730515\n",
      "[7000]\tvalid_0's auc: 0.730872\n",
      "[8000]\tvalid_0's auc: 0.731121\n",
      "[9000]\tvalid_0's auc: 0.731351\n",
      "[10000]\tvalid_0's auc: 0.731502\n",
      "[11000]\tvalid_0's auc: 0.731707\n",
      "Early stopping, best iteration is:\n",
      "[11192]\tvalid_0's auc: 0.731741\n",
      "调参后lightgbm单模型在验证集上的AUC：0.7317405262608612\n"
     ]
    },
    {
     "data": {
      "image/png": "[encoded data removed]",
      "text/plain": [
       "<Figure size 576x576 with 1 Axes>"
      ]
     },
     "metadata": {},
     "output_type": "display_data"
    }
   ],
   "source": [
    "\"\"\"\"\"\"\n",
    "base_params_lgb = {\n",
    "                    'boosting_type': 'gbdt',\n",
    "                    'objective': 'binary',\n",
    "                    'metric': 'auc',\n",
    "                    'learning_rate': 0.01,\n",
    "                    'num_leaves': 14,\n",
    "                    'max_depth': 19,\n",
    "                    'min_data_in_leaf': 37,\n",
    "                    'min_child_weight':1.6,\n",
    "                    'bagging_fraction': 0.98,\n",
    "                    'feature_fraction': 0.69,\n",
    "                    'bagging_freq': 96,\n",
    "                    'reg_lambda': 9,\n",
    "                    'reg_alpha': 7,\n",
    "                    'min_split_gain': 0.4,\n",
    "                    'nthread': 8,\n",
    "                    'seed': 2020,\n",
    "                    'silent': True,\n",
    "}\n",
    "\n",
    "\"\"\"使用训练集数据进行模型训练\"\"\"\n",
    "final_model_lgb = lgb.train(base_params_lgb, train_set=train_matrix, valid_sets=valid_matrix, num_boost_round=13000, verbose_eval=1000, early_stopping_rounds=200)\n",
    "\n",
    "\"\"\"预测并计算roc的相关指标\"\"\"\n",
    "val_pre_lgb = final_model_lgb.predict(X_val)\n",
    "fpr, tpr, threshold = metrics.roc_curve(y_val, val_pre_lgb)\n",
    "roc_auc = metrics.auc(fpr, tpr)\n",
    "print('调参后lightgbm单模型在验证集上的AUC：{}'.format(roc_auc))\n",
    "\"\"\"画出roc曲线图\"\"\"\n",
    "plt.figure(figsize=(8, 8))\n",
    "plt.title('Validation ROC')\n",
    "plt.plot(fpr, tpr, 'b', label = 'Val AUC = %0.4f' % roc_auc)\n",
    "plt.ylim(0,1)\n",
    "plt.xlim(0,1)\n",
    "plt.legend(loc='best')\n",
    "plt.title('ROC')\n",
    "plt.ylabel('True Positive Rate')\n",
    "plt.xlabel('False Positive Rate')\n",
    "# 画出对角线\n",
    "plt.plot([0,1],[0,1],'r--')\n",
    "plt.show()"
   ]
  },
  {
   "cell_type": "markdown",
   "metadata": {},
   "source": [
    "可以看到相比最早的原始参数，模型的性能还是有提升的"
   ]
  },
  {
   "cell_type": "code",
   "execution_count": 20,
   "metadata": {
    "ExecuteTime": {
     "end_time": "2020-09-01T02:57:54.867047Z",
     "start_time": "2020-09-01T02:57:54.343883Z"
    }
   },
   "outputs": [],
   "source": [
    "\"\"\"保存模型到本地\"\"\"\n",
    "# 保存模型\n",
    "import pickle\n",
    "pickle.dump(final_model_lgb, open('dataset/model_lgb_best.pkl', 'wb'))"
   ]
  },
  {
   "cell_type": "markdown",
   "metadata": {},
   "source": [
    "- **模型调参小总结**\n",
    "\n",
    "  - 集成模型内置的cv函数可以较快的进行单一参数的调节，一般可以用来优先确定树模型的迭代次数\n",
    "\n",
    "  - 数据量较大的时候（例如本次项目的数据），网格搜索调参会特别特别慢，不建议尝试\n",
    "\n",
    "  - 集成模型中原生库和sklearn下的库部分参数不一致，需要注意，具体可以参考xgb和lgb的官方API\n",
    "\n",
    "> [xgb原生库API](https://xgboost.readthedocs.io/en/stable/parameter.html)，[sklearn库下xgbAPI](https://xgboost.readthedocs.io/en/stable/python/python_api.html#module-xgboost.sklearn);\n",
    ">\n",
    "> [lgb原生库API](https://lightgbm.readthedocs.io/en/latest/Parameters.html)， [sklearn库下lgbAPI](https://lightgbm.readthedocs.io/en/latest/pythonapi/lightgbm.LGBMClassifier.html)\n",
    "\n"
   ]
  },
  {
   "cell_type": "markdown",
   "metadata": {},
   "source": [
    "#### 4.6 经验总结\n",
    "\n",
    "在本节中，我们主要完成了建模与调参的工作，首先在建模的过程中通过划分数据集、交叉验证等方式对模型的性能进行评估验证，并通过可视化方式绘制模型ROC曲线\n",
    "\n",
    "最后我们对模型进行调参，这部分介绍了贪心调参、网格搜索调参、贝叶斯调参共三种调参手段，重点使用贝叶斯调参对本次项目进行简单优化，大家在实际操作的过程中可以参考调参思路进行优化，不必拘泥于以上教程所写的具体实例。"
   ]
  },
  {
   "cell_type": "markdown",
   "metadata": {},
   "source": [
    "\n",
    "----\n",
    "<br><br>\n",
    "### END\n",
    "\n",
    "【 小一 ：Datawhale成员，金融风控爱好者。**个人微信公众号：[知秋小一](https://mp.weixin.qq.com/mp/profile_ext?action=home&__biz=MzI5MjYwNTU5NQ==&scene=124#wechat_redirect)**】\n",
    "\n",
    "<br><br>\n",
    "\n",
    "\n",
    "\n",
    "### 关于Datawhale：\n",
    "\n",
    "> Datawhale是一个专注于数据科学与AI领域的开源组织，汇集了众多领域院校和知名企业的优秀学习者，聚合了一群有开源精神和探索精神的团队成员。Datawhale 以“for the learner，和学习者一起成长”为愿景，鼓励真实地展现自我、开放包容、互信互助、敢于试错和勇于担当。同时 Datawhale 用开源的理念去探索开源内容、开源学习和开源方案，赋能人才培养，助力人才成长，建立起人与人，人与知识，人与企业和人与未来的联结。\n",
    "\n",
    "本次数据挖掘路径学习，专题知识将在天池分享，详情可关注[Datawhale](https://mp.weixin.qq.com/s/r1qZR-TzWQzJglyHyp9eDA)：\n",
    "\n",
    "![Datawhale](http://jupter-oss.oss-cn-hangzhou.aliyuncs.com/public/files/image/1095279172547/1584432602983_kAxAvgQpG2.jpg)\n"
   ]
  },
  {
   "cell_type": "code",
   "execution_count": null,
   "metadata": {},
   "outputs": [],
   "source": []
  }
 ],
 "metadata": {
  "kernelspec": {
   "display_name": "Python 3",
   "language": "python",
   "name": "python3"
  },
  "language_info": {
   "codemirror_mode": {
    "name": "ipython",
    "version": 3
   },
   "file_extension": ".py",
   "mimetype": "text/x-python",
   "name": "python",
   "nbconvert_exporter": "python",
   "pygments_lexer": "ipython3",
   "version": "3.6.5"
  },
  "tianchi_metadata": {
   "competitions": [],
   "datasets": [
    {
     "id": "82702",
     "title": "金融风控预测"
    }
   ],
   "description": "",
   "notebookId": "147270",
   "source": "dsw"
  },
  "toc": {
   "base_numbering": 1,
   "nav_menu": {},
   "number_sections": true,
   "sideBar": true,
   "skip_h1_title": false,
   "title_cell": "Table of Contents",
   "title_sidebar": "Contents",
   "toc_cell": false,
   "toc_position": {},
   "toc_section_display": true,
   "toc_window_display": false
  }
 },
 "nbformat": 4,
 "nbformat_minor": 4
}
